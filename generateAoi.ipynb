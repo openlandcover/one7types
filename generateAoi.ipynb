{
 "cells": [
  {
   "cell_type": "markdown",
   "id": "a6f33848-986b-4d1a-9e13-ef2fcc895396",
   "metadata": {},
   "source": [
    "# Create mask for semi-arid area of interest and zonation for ONE mapping"
   ]
  },
  {
   "cell_type": "markdown",
   "id": "ffcf9957-21ee-4f56-9383-bba400c6bb98",
   "metadata": {},
   "source": [
    "## Import modules & libraries, initialize EE"
   ]
  },
  {
   "cell_type": "code",
   "execution_count": 1,
   "id": "157db817-fa51-4c57-ae26-7bda5cd2fa89",
   "metadata": {},
   "outputs": [],
   "source": [
    "import geemap\n",
    "import ee\n",
    "\n",
    "from areaOfInterestMask import semiarid\n",
    "\n",
    "ee.Initialize()"
   ]
  },
  {
   "cell_type": "markdown",
   "id": "d1ae41b0-9e74-4635-b007-41d104131124",
   "metadata": {},
   "source": [
    "## Run aoi mask generation"
   ]
  },
  {
   "cell_type": "code",
   "execution_count": 2,
   "id": "8984894d-873b-418c-b669-853dfcdc3b6f",
   "metadata": {
    "tags": []
   },
   "outputs": [
    {
     "name": "stdout",
     "output_type": "stream",
     "text": [
      "{'type': 'Image', 'bands': [{'id': 'aoiWithLabels', 'data_type': {'type': 'PixelType', 'precision': 'int', 'min': 0, 'max': 255}, 'dimensions': [10356, 9682], 'crs': 'EPSG:4326', 'crs_transform': [0.00026949458523585647, 0, 72.95649613671011, 0, -0.00026949458523585647, 23.55894714673334]}], 'version': 1650432581363107, 'id': 'projects/ee-open-natural-ecosystems/assets/homeStretch/semiaridONEAoi', 'properties': {'system:footprint': {'type': 'LinearRing', 'coordinates': [[73.6542849502496, 20.949565365442673], [73.91590527047187, 20.949498904499652], [74.17752561137576, 20.949565324002187], [74.43914582476087, 20.949498826834304], [74.78797292281492, 20.949498852921653], [75.13679996971851, 20.949498878287436], [75.48562699832085, 20.94949891345624], [75.74753641517849, 20.94956518028996], [75.74754182700997, 23.559082170694506], [75.39842026245361, 23.559082378756106], [74.70076613255048, 23.55908240027737], [74.17752561137576, 23.55908234511699], [73.82869849210753, 23.559082324913884], [73.30545796657468, 23.559082412383027], [72.95633640737749, 23.559082235916108], [72.95634181390687, 20.949387607536938], [73.39266472911287, 20.949498896968763], [73.6542849502496, 20.949565365442673]]}, 'system:asset_size': 3430848}}\n"
     ]
    },
    {
     "data": {
      "application/vnd.jupyter.widget-view+json": {
       "model_id": "b611c77a67014d11982255e7b173a9d9",
       "version_major": 2,
       "version_minor": 0
      },
      "text/plain": [
       "Map(center=[20, 0], controls=(WidgetControl(options=['position', 'transparent_bg'], widget=HBox(children=(Togg…"
      ]
     },
     "metadata": {},
     "output_type": "display_data"
    }
   ],
   "source": [
    "inputMask = semiarid.maskWithClassLabels(returnExisting = True) # startFreshExport = True/False, returnExisting = True/False\n",
    "print(inputMask.getInfo())\n",
    "Map = geemap.Map()\n",
    "Map.addLayer(inputMask)\n",
    "Map"
   ]
  },
  {
   "cell_type": "markdown",
   "id": "e8b80903-55f9-4d5f-8fc5-b3c64b28e6a4",
   "metadata": {},
   "source": [
    "## Zonation maps"
   ]
  },
  {
   "cell_type": "markdown",
   "id": "f141a878-8f40-471c-854f-54f7489233df",
   "metadata": {},
   "source": [
    "### State-wise"
   ]
  },
  {
   "cell_type": "markdown",
   "id": "a1a7d2a7-2603-4d58-8216-043c62793ee1",
   "metadata": {},
   "source": [
    "#### Numeric"
   ]
  },
  {
   "cell_type": "code",
   "execution_count": 3,
   "id": "4508474b-7b75-4be1-93b8-d1b262ddb296",
   "metadata": {},
   "outputs": [
    {
     "name": "stdout",
     "output_type": "stream",
     "text": [
      "{'type': 'Image', 'bands': [{'id': 'zoneStateNum', 'data_type': {'type': 'PixelType', 'precision': 'int', 'min': 0, 'max': 255}, 'dimensions': [10356, 9682], 'crs': 'EPSG:4326', 'crs_transform': [0.00026949458523585647, 0, 72.95649613671011, 0, -0.00026949458523585647, 23.55894714673334]}], 'version': 1650367317472819, 'id': 'projects/ee-open-natural-ecosystems/assets/homeStretch/zonesFromStatesNumbered', 'properties': {'system:footprint': {'type': 'LinearRing', 'coordinates': [[73.6542849502496, 20.949565365442673], [73.91590527047187, 20.949498904499652], [74.17752561137576, 20.949565324002187], [74.43914582476087, 20.949498826834304], [74.78797292281492, 20.949498852921653], [75.13679996971851, 20.949498878287436], [75.48562699832085, 20.94949891345624], [75.74753641517849, 20.94956518028996], [75.74754182700997, 23.559082170694506], [75.39842026245361, 23.559082378756106], [74.70076613255048, 23.55908240027737], [74.17752561137576, 23.55908234511699], [73.82869849210753, 23.559082324913884], [73.30545796657468, 23.559082412383027], [72.95633640737749, 23.559082235916108], [72.95634181390687, 20.949387607536938], [73.39266472911287, 20.949498896968763], [73.6542849502496, 20.949565365442673]]}, 'system:asset_size': 103691}}\n"
     ]
    }
   ],
   "source": [
    "stateZonesNum = semiarid.classificationZonesFromStatesNumeric(returnExisting = True) # startFreshExport = True/False, returnExisting = True/False\n",
    "# print(stateZonesNum)\n",
    "print(stateZonesNum.getInfo())\n",
    "# print(stateZonesNum.first().getInfo())\n",
    "# Map.addLayer(stateZonesNum)\n",
    "\n",
    "f = ee.Feature(ee.Geometry.Polygon( \\\n",
    "                [[[72.95673828124998, 23.55260439144696], \\\n",
    "                  [72.95673828124998, 20.949843246570985], \\\n",
    "                  [75.74726562499998, 20.949843246570985], \\\n",
    "                  [75.74726562499998, 23.55260439144696]]]), {})\n",
    "# print(stateZonesNum.reduceRegion(ee.Reducer.minMax(), f.geometry(), 30, None, None, None, 1e10).getInfo())"
   ]
  },
  {
   "cell_type": "markdown",
   "id": "6154b68c-dce0-49f4-a04a-e2ac5e6547d1",
   "metadata": {},
   "source": [
    "#### One-hot"
   ]
  },
  {
   "cell_type": "code",
   "execution_count": 4,
   "id": "9192c34c-fb79-4e60-ae3e-746f6e97bddf",
   "metadata": {},
   "outputs": [
    {
     "name": "stdout",
     "output_type": "stream",
     "text": [
      "{'type': 'Image', 'bands': [{'id': 'zoneStateOhe_pbbh', 'data_type': {'type': 'PixelType', 'precision': 'int', 'min': 0, 'max': 255}, 'dimensions': [10356, 9682], 'crs': 'EPSG:4326', 'crs_transform': [0.00026949458523585647, 0, 72.95649613671011, 0, -0.00026949458523585647, 23.55894714673334]}, {'id': 'zoneStateOhe_rj', 'data_type': {'type': 'PixelType', 'precision': 'int', 'min': 0, 'max': 255}, 'dimensions': [10356, 9682], 'crs': 'EPSG:4326', 'crs_transform': [0.00026949458523585647, 0, 72.95649613671011, 0, -0.00026949458523585647, 23.55894714673334]}, {'id': 'zoneStateOhe_gj', 'data_type': {'type': 'PixelType', 'precision': 'int', 'min': 0, 'max': 255}, 'dimensions': [10356, 9682], 'crs': 'EPSG:4326', 'crs_transform': [0.00026949458523585647, 0, 72.95649613671011, 0, -0.00026949458523585647, 23.55894714673334]}, {'id': 'zoneStateOhe_mh', 'data_type': {'type': 'PixelType', 'precision': 'int', 'min': 0, 'max': 255}, 'dimensions': [10356, 9682], 'crs': 'EPSG:4326', 'crs_transform': [0.00026949458523585647, 0, 72.95649613671011, 0, -0.00026949458523585647, 23.55894714673334]}, {'id': 'zoneStateOhe_mpod', 'data_type': {'type': 'PixelType', 'precision': 'int', 'min': 0, 'max': 255}, 'dimensions': [10356, 9682], 'crs': 'EPSG:4326', 'crs_transform': [0.00026949458523585647, 0, 72.95649613671011, 0, -0.00026949458523585647, 23.55894714673334]}, {'id': 'zoneStateOhe_aptg', 'data_type': {'type': 'PixelType', 'precision': 'int', 'min': 0, 'max': 255}, 'dimensions': [10356, 9682], 'crs': 'EPSG:4326', 'crs_transform': [0.00026949458523585647, 0, 72.95649613671011, 0, -0.00026949458523585647, 23.55894714673334]}, {'id': 'zoneStateOhe_tn', 'data_type': {'type': 'PixelType', 'precision': 'int', 'min': 0, 'max': 255}, 'dimensions': [10356, 9682], 'crs': 'EPSG:4326', 'crs_transform': [0.00026949458523585647, 0, 72.95649613671011, 0, -0.00026949458523585647, 23.55894714673334]}, {'id': 'zoneStateOhe_ka', 'data_type': {'type': 'PixelType', 'precision': 'int', 'min': 0, 'max': 255}, 'dimensions': [10356, 9682], 'crs': 'EPSG:4326', 'crs_transform': [0.00026949458523585647, 0, 72.95649613671011, 0, -0.00026949458523585647, 23.55894714673334]}], 'version': 1650367806483639, 'id': 'projects/ee-open-natural-ecosystems/assets/homeStretch/zonesFromStatesOneHotEncoded', 'properties': {'system:footprint': {'type': 'LinearRing', 'coordinates': [[73.6542849502496, 20.949565365442673], [73.91590527047187, 20.949498904499652], [74.17752561137576, 20.949565324002187], [74.43914582476087, 20.949498826834304], [74.78797292281492, 20.949498852921653], [75.13679996971851, 20.949498878287436], [75.48562699832085, 20.94949891345624], [75.74753641517849, 20.94956518028996], [75.74754182700997, 23.559082170694506], [75.39842026245361, 23.559082378756106], [74.70076613255048, 23.55908240027737], [74.17752561137576, 23.55908234511699], [73.82869849210753, 23.559082324913884], [73.30545796657468, 23.559082412383027], [72.95633640737749, 23.559082235916108], [72.95634181390687, 20.949387607536938], [73.39266472911287, 20.949498896968763], [73.6542849502496, 20.949565365442673]]}, 'system:asset_size': 208395}}\n"
     ]
    }
   ],
   "source": [
    "stateZonesOhe = semiarid.classificationZonesFromStatesOneHotEncoded(returnExisting = True) # startFreshExport = True/False, returnExisting = True/False\n",
    "# print(stateZonesOhe)\n",
    "print(stateZonesOhe.getInfo())\n",
    "# print(stateZonesOhe.first().getInfo())\n",
    "# Map.addLayer(stateZonesOhe)\n",
    "\n",
    "f = ee.Feature(ee.Geometry.Polygon( \\\n",
    "                [[[72.95673828124998, 23.55260439144696], \\\n",
    "                  [72.95673828124998, 20.949843246570985], \\\n",
    "                  [75.74726562499998, 20.949843246570985], \\\n",
    "                  [75.74726562499998, 23.55260439144696]]]), {})\n",
    "# print(stateZonesOhe.reduceRegion(ee.Reducer.minMax(), f.geometry(), 30, None, None, None, 1e10).getInfo())"
   ]
  },
  {
   "cell_type": "markdown",
   "id": "820baaac-1cff-46ee-9c94-0c72e51f4b7c",
   "metadata": {},
   "source": [
    "### Biome-wise"
   ]
  },
  {
   "cell_type": "markdown",
   "id": "1f3c96cb-4feb-4481-84d2-d42053a53db9",
   "metadata": {},
   "source": [
    "#### Numeric"
   ]
  },
  {
   "cell_type": "code",
   "execution_count": 5,
   "id": "be417010-1678-40bc-9107-275ac46a9095",
   "metadata": {},
   "outputs": [
    {
     "name": "stdout",
     "output_type": "stream",
     "text": [
      "{'type': 'Image', 'bands': [{'id': 'zoneBiomeNum', 'data_type': {'type': 'PixelType', 'precision': 'int', 'min': 0, 'max': 255}, 'dimensions': [10356, 9682], 'crs': 'EPSG:4326', 'crs_transform': [0.00026949458523585647, 0, 72.95649613671011, 0, -0.00026949458523585647, 23.55894714673334]}], 'version': 1650371227361652, 'id': 'projects/ee-open-natural-ecosystems/assets/homeStretch/zonesFromBiomesNumbered', 'properties': {'system:footprint': {'type': 'LinearRing', 'coordinates': [[73.6542849502496, 20.949565365442673], [73.91590527047187, 20.949498904499652], [74.17752561137576, 20.949565324002187], [74.43914582476087, 20.949498826834304], [74.78797292281492, 20.949498852921653], [75.13679996971851, 20.949498878287436], [75.48562699832085, 20.94949891345624], [75.74753641517849, 20.94956518028996], [75.74754182700997, 23.559082170694506], [75.39842026245361, 23.559082378756106], [74.70076613255048, 23.55908240027737], [74.17752561137576, 23.55908234511699], [73.82869849210753, 23.559082324913884], [73.30545796657468, 23.559082412383027], [72.95633640737749, 23.559082235916108], [72.95634181390687, 20.949387607536938], [73.39266472911287, 20.949498896968763], [73.6542849502496, 20.949565365442673]]}, 'system:asset_size': 54378}}\n"
     ]
    }
   ],
   "source": [
    "biomeZonesNum = semiarid.classificationZonesFromBiomesNumeric(returnExisting = True) # startFreshExport = True/False, returnExisting = True/False\n",
    "# print(biomeZonesNum)\n",
    "print(biomeZonesNum.getInfo())\n",
    "# print(biomeZonesNum.first().getInfo())\n",
    "# Map.addLayer(biomeZonesNum)\n",
    "\n",
    "f = ee.Feature(ee.Geometry.Polygon( \\\n",
    "                [[[72.95673828124998, 23.55260439144696], \\\n",
    "                  [72.95673828124998, 20.949843246570985], \\\n",
    "                  [75.74726562499998, 20.949843246570985], \\\n",
    "                  [75.74726562499998, 23.55260439144696]]]), {})\n",
    "# print(biomeZonesNum.reduceRegion(ee.Reducer.minMax(), f.geometry(), 30, None, None, None, 1e10).getInfo())"
   ]
  },
  {
   "cell_type": "markdown",
   "id": "77b2e60b-a43b-4788-a4c7-68365fd3487c",
   "metadata": {},
   "source": [
    "#### One-hot"
   ]
  },
  {
   "cell_type": "code",
   "execution_count": 6,
   "id": "58bba80b-49e6-49d7-b791-229daafcbc33",
   "metadata": {},
   "outputs": [
    {
     "name": "stdout",
     "output_type": "stream",
     "text": [
      "{'type': 'Image', 'bands': [{'id': 'zoneBiomeOhe_na', 'data_type': {'type': 'PixelType', 'precision': 'int', 'min': 0, 'max': 255}, 'dimensions': [10356, 9682], 'crs': 'EPSG:4326', 'crs_transform': [0.00026949458523585647, 0, 72.95649613671011, 0, -0.00026949458523585647, 23.55894714673334]}, {'id': 'zoneBiomeOhe_fldgrssvn', 'data_type': {'type': 'PixelType', 'precision': 'int', 'min': 0, 'max': 255}, 'dimensions': [10356, 9682], 'crs': 'EPSG:4326', 'crs_transform': [0.00026949458523585647, 0, 72.95649613671011, 0, -0.00026949458523585647, 23.55894714673334]}, {'id': 'zoneBiomeOhe_mntgrsshrb', 'data_type': {'type': 'PixelType', 'precision': 'int', 'min': 0, 'max': 255}, 'dimensions': [10356, 9682], 'crs': 'EPSG:4326', 'crs_transform': [0.00026949458523585647, 0, 72.95649613671011, 0, -0.00026949458523585647, 23.55894714673334]}, {'id': 'zoneBiomeOhe_trsubtrmoistblfor', 'data_type': {'type': 'PixelType', 'precision': 'int', 'min': 0, 'max': 255}, 'dimensions': [10356, 9682], 'crs': 'EPSG:4326', 'crs_transform': [0.00026949458523585647, 0, 72.95649613671011, 0, -0.00026949458523585647, 23.55894714673334]}, {'id': 'zoneBiomeOhe_tmpconiffor', 'data_type': {'type': 'PixelType', 'precision': 'int', 'min': 0, 'max': 255}, 'dimensions': [10356, 9682], 'crs': 'EPSG:4326', 'crs_transform': [0.00026949458523585647, 0, 72.95649613671011, 0, -0.00026949458523585647, 23.55894714673334]}, {'id': 'zoneBiomeOhe_tempblmixdfor', 'data_type': {'type': 'PixelType', 'precision': 'int', 'min': 0, 'max': 255}, 'dimensions': [10356, 9682], 'crs': 'EPSG:4326', 'crs_transform': [0.00026949458523585647, 0, 72.95649613671011, 0, -0.00026949458523585647, 23.55894714673334]}, {'id': 'zoneBiomeOhe_trsubtrconiffor', 'data_type': {'type': 'PixelType', 'precision': 'int', 'min': 0, 'max': 255}, 'dimensions': [10356, 9682], 'crs': 'EPSG:4326', 'crs_transform': [0.00026949458523585647, 0, 72.95649613671011, 0, -0.00026949458523585647, 23.55894714673334]}, {'id': 'zoneBiomeOhe_mngr', 'data_type': {'type': 'PixelType', 'precision': 'int', 'min': 0, 'max': 255}, 'dimensions': [10356, 9682], 'crs': 'EPSG:4326', 'crs_transform': [0.00026949458523585647, 0, 72.95649613671011, 0, -0.00026949458523585647, 23.55894714673334]}, {'id': 'zoneBiomeOhe_desxershrb', 'data_type': {'type': 'PixelType', 'precision': 'int', 'min': 0, 'max': 255}, 'dimensions': [10356, 9682], 'crs': 'EPSG:4326', 'crs_transform': [0.00026949458523585647, 0, 72.95649613671011, 0, -0.00026949458523585647, 23.55894714673334]}, {'id': 'zoneBiomeOhe_trsubtrdryblfor', 'data_type': {'type': 'PixelType', 'precision': 'int', 'min': 0, 'max': 255}, 'dimensions': [10356, 9682], 'crs': 'EPSG:4326', 'crs_transform': [0.00026949458523585647, 0, 72.95649613671011, 0, -0.00026949458523585647, 23.55894714673334]}, {'id': 'zoneBiomeOhe_trsubtrgrssvnshrb', 'data_type': {'type': 'PixelType', 'precision': 'int', 'min': 0, 'max': 255}, 'dimensions': [10356, 9682], 'crs': 'EPSG:4326', 'crs_transform': [0.00026949458523585647, 0, 72.95649613671011, 0, -0.00026949458523585647, 23.55894714673334]}], 'version': 1650371585835947, 'id': 'projects/ee-open-natural-ecosystems/assets/homeStretch/zonesFromBiomesOneHotEncoded', 'properties': {'system:footprint': {'type': 'LinearRing', 'coordinates': [[73.6542849502496, 20.949565365442673], [73.91590527047187, 20.949498904499652], [74.17752561137576, 20.949565324002187], [74.43914582476087, 20.949498826834304], [74.78797292281492, 20.949498852921653], [75.13679996971851, 20.949498878287436], [75.48562699832085, 20.94949891345624], [75.74753641517849, 20.94956518028996], [75.74754182700997, 23.559082170694506], [75.39842026245361, 23.559082378756106], [74.70076613255048, 23.55908240027737], [74.17752561137576, 23.55908234511699], [73.82869849210753, 23.559082324913884], [73.30545796657468, 23.559082412383027], [72.95633640737749, 23.559082235916108], [72.95634181390687, 20.949387607536938], [73.39266472911287, 20.949498896968763], [73.6542849502496, 20.949565365442673]]}, 'system:asset_size': 108984}}\n"
     ]
    }
   ],
   "source": [
    "biomeZonesOhe = semiarid.classificationZonesFromBiomesOneHotEncoded(returnExisting = True) # startFreshExport = True/False, returnExisting = True/False\n",
    "# print(biomeZonesOhe)\n",
    "print(biomeZonesOhe.getInfo())\n",
    "# print(biomeZonesOhe.first().getInfo())\n",
    "# Map.addLayer(biomeZonesOhe)\n",
    "\n",
    "f = ee.Feature(ee.Geometry.Polygon( \\\n",
    "                [[[72.95673828124998, 23.55260439144696], \\\n",
    "                  [72.95673828124998, 20.949843246570985], \\\n",
    "                  [75.74726562499998, 20.949843246570985], \\\n",
    "                  [75.74726562499998, 23.55260439144696]]]), {})\n",
    "# print(biomeZonesOhe.reduceRegion(ee.Reducer.minMax(), f.geometry(), 30, None, None, None, 1e10).getInfo())"
   ]
  },
  {
   "cell_type": "markdown",
   "id": "a18dfcff-d8c4-42e7-819f-f975dab697e6",
   "metadata": {},
   "source": [
    "### Geological age-wise"
   ]
  },
  {
   "cell_type": "markdown",
   "id": "0a988a4a-fc97-4273-a758-9c1fb09a1acf",
   "metadata": {},
   "source": [
    "#### Numeric"
   ]
  },
  {
   "cell_type": "code",
   "execution_count": 7,
   "id": "c5bce06b-76f2-4538-8b49-69e73eaddcbf",
   "metadata": {},
   "outputs": [
    {
     "name": "stdout",
     "output_type": "stream",
     "text": [
      "{'type': 'Image', 'bands': [{'id': 'zoneGeologicalAgeNum', 'data_type': {'type': 'PixelType', 'precision': 'int', 'min': 0, 'max': 255}, 'dimensions': [10356, 9682], 'crs': 'EPSG:4326', 'crs_transform': [0.00026949458523585647, 0, 72.95649613671011, 0, -0.00026949458523585647, 23.55894714673334]}], 'version': 1650428157230421, 'id': 'projects/ee-open-natural-ecosystems/assets/homeStretch/zonesFromGeologicalAgeNumbered', 'properties': {'system:footprint': {'type': 'LinearRing', 'coordinates': [[73.6542849502496, 20.949565365442673], [73.91590527047187, 20.949498904499652], [74.17752561137576, 20.949565324002187], [74.43914582476087, 20.949498826834304], [74.78797292281492, 20.949498852921653], [75.13679996971851, 20.949498878287436], [75.48562699832085, 20.94949891345624], [75.74753641517849, 20.94956518028996], [75.74754182700997, 23.559082170694506], [75.39842026245361, 23.559082378756106], [74.70076613255048, 23.55908240027737], [74.17752561137576, 23.55908234511699], [73.82869849210753, 23.559082324913884], [73.30545796657468, 23.559082412383027], [72.95633640737749, 23.559082235916108], [72.95634181390687, 20.949387607536938], [73.39266472911287, 20.949498896968763], [73.6542849502496, 20.949565365442673]]}, 'system:asset_size': 186072}}\n"
     ]
    }
   ],
   "source": [
    "geolZonesNum = semiarid.classificationZonesFromGeologicalAgeNumeric(returnExisting = True) # startFreshExport = True/False, returnExisting = True/False\n",
    "# print(geolZonesNum)\n",
    "print(geolZonesNum.getInfo())\n",
    "# print(geolZonesNum.first().getInfo())\n",
    "# Map.addLayer(geolZonesNum)\n",
    "\n",
    "f = ee.Feature(ee.Geometry.Polygon( \\\n",
    "                [[[72.95673828124998, 23.55260439144696], \\\n",
    "                  [72.95673828124998, 20.949843246570985], \\\n",
    "                  [75.74726562499998, 20.949843246570985], \\\n",
    "                  [75.74726562499998, 23.55260439144696]]]), {})\n",
    "# print(geolZonesNum.reduceRegion(ee.Reducer.minMax(), f.geometry(), 30, None, None, None, 1e10).getInfo())"
   ]
  },
  {
   "cell_type": "markdown",
   "id": "25891480-e09d-47a4-b9cb-f799233d1351",
   "metadata": {},
   "source": [
    "#### One-hot"
   ]
  },
  {
   "cell_type": "code",
   "execution_count": 8,
   "id": "e51cb5dc-9d80-46bd-8833-22a28f7ce71a",
   "metadata": {},
   "outputs": [
    {
     "name": "stdout",
     "output_type": "stream",
     "text": [
      "{'type': 'Image', 'bands': [{'id': 'zoneGeologicalAgeOhe_precambrian', 'data_type': {'type': 'PixelType', 'precision': 'int', 'min': 0, 'max': 255}, 'dimensions': [10356, 9682], 'crs': 'EPSG:4326', 'crs_transform': [0.00026949458523585647, 0, 72.95649613671011, 0, -0.00026949458523585647, 23.55894714673334]}, {'id': 'zoneGeologicalAgeOhe_deccantraps', 'data_type': {'type': 'PixelType', 'precision': 'int', 'min': 0, 'max': 255}, 'dimensions': [10356, 9682], 'crs': 'EPSG:4326', 'crs_transform': [0.00026949458523585647, 0, 72.95649613671011, 0, -0.00026949458523585647, 23.55894714673334]}, {'id': 'zoneGeologicalAgeOhe_quaternarysediments', 'data_type': {'type': 'PixelType', 'precision': 'int', 'min': 0, 'max': 255}, 'dimensions': [10356, 9682], 'crs': 'EPSG:4326', 'crs_transform': [0.00026949458523585647, 0, 72.95649613671011, 0, -0.00026949458523585647, 23.55894714673334]}, {'id': 'zoneGeologicalAgeOhe_quaternarydunes', 'data_type': {'type': 'PixelType', 'precision': 'int', 'min': 0, 'max': 255}, 'dimensions': [10356, 9682], 'crs': 'EPSG:4326', 'crs_transform': [0.00026949458523585647, 0, 72.95649613671011, 0, -0.00026949458523585647, 23.55894714673334]}, {'id': 'zoneGeologicalAgeOhe_others', 'data_type': {'type': 'PixelType', 'precision': 'int', 'min': 0, 'max': 255}, 'dimensions': [10356, 9682], 'crs': 'EPSG:4326', 'crs_transform': [0.00026949458523585647, 0, 72.95649613671011, 0, -0.00026949458523585647, 23.55894714673334]}], 'version': 1650428533336515, 'id': 'projects/ee-open-natural-ecosystems/assets/homeStretch/zonesFromGeologicalAgeOneHotEncoded', 'properties': {'system:footprint': {'type': 'LinearRing', 'coordinates': [[73.6542849502496, 20.949565365442673], [73.91590527047187, 20.949498904499652], [74.17752561137576, 20.949565324002187], [74.43914582476087, 20.949498826834304], [74.78797292281492, 20.949498852921653], [75.13679996971851, 20.949498878287436], [75.48562699832085, 20.94949891345624], [75.74753641517849, 20.94956518028996], [75.74754182700997, 23.559082170694506], [75.39842026245361, 23.559082378756106], [74.70076613255048, 23.55908240027737], [74.17752561137576, 23.55908234511699], [73.82869849210753, 23.559082324913884], [73.30545796657468, 23.559082412383027], [72.95633640737749, 23.559082235916108], [72.95634181390687, 20.949387607536938], [73.39266472911287, 20.949498896968763], [73.6542849502496, 20.949565365442673]]}, 'system:asset_size': 377952}}\n"
     ]
    }
   ],
   "source": [
    "geolZonesOhe = semiarid.classificationZonesFromGeologicalAgeOneHotEncoded(returnExisting = True) # startFreshExport = True/False, returnExisting = True/False\n",
    "# print(geolZonesOhe)\n",
    "print(geolZonesOhe.getInfo())\n",
    "# print(geolZonesOhe.first().getInfo())\n",
    "# Map.addLayer(geolZonesOhe)\n",
    "\n",
    "f = ee.Feature(ee.Geometry.Polygon( \\\n",
    "                [[[72.95673828124998, 23.55260439144696], \\\n",
    "                  [72.95673828124998, 20.949843246570985], \\\n",
    "                  [75.74726562499998, 20.949843246570985], \\\n",
    "                  [75.74726562499998, 23.55260439144696]]]), {})\n",
    "# print(geolZonesOhe.reduceRegion(ee.Reducer.minMax(), f.geometry(), 30, None, None, None, 1e10).getInfo())"
   ]
  },
  {
   "cell_type": "code",
   "execution_count": null,
   "id": "c83770b6-ab2f-476e-ad12-4a97de0283db",
   "metadata": {},
   "outputs": [],
   "source": []
  }
 ],
 "metadata": {
  "kernelspec": {
   "display_name": "Python 3 (ipykernel)",
   "language": "python",
   "name": "python3"
  },
  "language_info": {
   "codemirror_mode": {
    "name": "ipython",
    "version": 3
   },
   "file_extension": ".py",
   "mimetype": "text/x-python",
   "name": "python",
   "nbconvert_exporter": "python",
   "pygments_lexer": "ipython3",
   "version": "3.10.2"
  }
 },
 "nbformat": 4,
 "nbformat_minor": 5
}
