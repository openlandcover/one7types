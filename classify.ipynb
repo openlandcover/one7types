{
 "cells": [
  {
   "cell_type": "markdown",
   "id": "54483f7d-14a8-4063-acf4-ae0ab4ab99d9",
   "metadata": {},
   "source": [
    "# [ **REQUIRED** ] Import, initialize"
   ]
  },
  {
   "cell_type": "code",
   "execution_count": 1,
   "id": "b7827b14-8531-407b-99ad-e24c592edff2",
   "metadata": {
    "tags": []
   },
   "outputs": [],
   "source": [
    "import math\n",
    "import geemap\n",
    "import ee\n",
    "import configparser as cp\n",
    "import io\n",
    "import ast\n",
    "import subprocess\n",
    "\n",
    "from classification import classifyAndAssess\n",
    "from featuresForModeling import generateFeatures\n",
    "\n",
    "ee.Initialize()"
   ]
  },
  {
   "cell_type": "markdown",
   "id": "35b52ae2-7fd2-4610-ab60-de2538691e95",
   "metadata": {},
   "source": [
    "# [ **REQUIRED** ] Check that features available via config file matches those in the set of feature rasters\n",
    "\n",
    "Each feature is created separately, in the `featuresForModeling` module, and exported as EE assets. The names of each of those features (i.e., the respective raster bandnames) are derived from the `config.ini` file and set at export time.\n",
    "\n",
    "In this section, we read in the names from `config.ini` and compare that list with that from the feature raster assets. If the two do not match, it might be best to go back to the `featuresForModeling` module and fix it before proceeding here."
   ]
  },
  {
   "cell_type": "markdown",
   "id": "b2e1751d-09eb-4841-bc5a-bd5042913eb5",
   "metadata": {
    "tags": []
   },
   "source": [
    "## Feature names from config file\n",
    "\n",
    "Read-in, one by one, names of all features as stored in the config file.\n",
    "\n",
    "**NOTE:** \n",
    "* This is done by manually scanning the config file. There is currently no way to do this programmatically. \n",
    "* `lon` and `lat` are not set in the config file, so are initialized here. Because they are not generated & saved as feature rasters but are simply invoked with `ee.Image.pixelLonLat()` at labeled points sampling time."
   ]
  },
  {
   "cell_type": "code",
   "execution_count": 2,
   "id": "407c843a-fba5-48ea-a250-953f1edbd5e8",
   "metadata": {},
   "outputs": [],
   "source": [
    "with open(\"config.ini\", 'r') as f:\n",
    "    fileContents = f.read()\n",
    "config = cp.RawConfigParser(allow_no_value = True, interpolation = cp.ExtendedInterpolation())\n",
    "config.read_file(io.StringIO(fileContents))\n",
    "\n",
    "homeFolder = config.get('CORE', 'assetFolderWithFeatures')\n",
    "\n",
    "configSeas = config['FEATURES-SEASONALITY']\n",
    "phase      = configSeas.get('featureBandNamePhase')\n",
    "ampl       = configSeas.get('featureBandNameAmplitude')\n",
    "offset     = configSeas.get('featureBandNameOffset')\n",
    "trend      = configSeas.get('featureBandNameTrend')\n",
    "phase_seg  = configSeas.get('featureBandNamePhaseSegmented')\n",
    "ampl_seg   = configSeas.get('featureBandNameAmplitudeSegmented')\n",
    "\n",
    "configTCTd  = config['FEATURES-TASSELLEDCAP']\n",
    "dBrt        = configTCTd.get('featureBandNameDrySeasonBrightness')\n",
    "dGrn        = configTCTd.get('featureBandNameDrySeasonGreenness')\n",
    "dWet        = configTCTd.get('featureBandNameDrySeasonWetness')\n",
    "wBrt        = configTCTd.get('featureBandNameWetSeasonBrightness')\n",
    "wGrn        = configTCTd.get('featureBandNameWetSeasonGreenness')\n",
    "wWet        = configTCTd.get('featureBandNameWetSeasonWetness')\n",
    "tctdiff     = configTCTd.get('featureBandNameTCTDifference')\n",
    "dBrt_seg    = dBrt + '_seg'\n",
    "dGrn_seg    = dGrn + '_seg'\n",
    "dWet_seg    = dWet + '_seg'\n",
    "wBrt_seg    = wBrt + '_seg'\n",
    "wGrn_seg    = wGrn + '_seg'\n",
    "wWet_seg    = wWet + '_seg'\n",
    "tctdiff_seg = configTCTd.get('featureBandNameTCTDifferenceSegmented')\n",
    "\n",
    "configGrBr   = config['FEATURES-GREENINGTEMPORALSTATS']\n",
    "ndviMin      = configGrBr.get('featureBandNameGreening5thPerc')\n",
    "ndviMed      = configGrBr.get('featureBandNameGreening50thPerc')\n",
    "ndviMax      = configGrBr.get('featureBandNameGreening95thPerc')\n",
    "grnExt       = configGrBr.get('featureBandNameGreeningExtent')\n",
    "brnExt       = configGrBr.get('featureBandNameBrowningExtent')\n",
    "grnbrnNd     = configGrBr.get('featureBandNameGrningBrningNd')\n",
    "ndviMed_seg  = configGrBr.get('featureBandNameGreening50thPercSegmented')\n",
    "grnExt_seg   = configGrBr.get('featureBandNameGreeningExtentSegmented')\n",
    "brnExt_seg   = configGrBr.get('featureBandNameBrowningExtentSegmented')\n",
    "grnbrnNd_seg = configGrBr.get('featureBandNameGrningBrningNdSegmented')\n",
    "\n",
    "configPalsar = config['FEATURES-PALSAR']\n",
    "palsar       = configPalsar.get('featureBandNamePalsarMedian')\n",
    "palsar_seg   = configPalsar.get('featureBandNamePalsarMedianSegmented')\n",
    "\n",
    "configEt   = config['FEATURES-EVAPOTRANSPIRATION']\n",
    "etSoil     = configEt.get('featureBandNameEtSoil')\n",
    "etVeg      = configEt.get('featureBandNameEtVeg')\n",
    "etSoil_seg = configEt.get('featureBandNameEtSoilSegmented')\n",
    "etVeg_seg  = configEt.get('featureBandNameEtVegSegmented')\n",
    "\n",
    "configGeomorph = config['FEATURES-TOPOGRAPHY-GEOMORPHOLOGY-RUGGEDNESS']\n",
    "geomorphRugged = configGeomorph.get('featureBandName')\n",
    "geomorphRugged_seg = configGeomorph.get('featureBandNameGeomorphRuggedSegmented')\n",
    "\n",
    "zoneNumSuff = 'Num'\n",
    "zoneOheSuff = 'Ohe_'\n",
    "\n",
    "configZnStates   = config['AOI-CLASSIFICATION-ZONES-STATES']\n",
    "zoneStatePref    = configZnStates.get(\"featureBandNamePrefix\")\n",
    "zoneStateNum     = zoneStatePref + zoneNumSuff\n",
    "zoneStateLabels  = list(ast.literal_eval(configZnStates.get(\"groupsOfStatesLabels\")))\n",
    "zoneStateOhe     = [zoneStatePref + zoneOheSuff + label for label in zoneStateLabels]\n",
    "\n",
    "configZnBiomes  = config['AOI-CLASSIFICATION-ZONES-BIOMES']\n",
    "zoneBiomePref   = configZnBiomes.get(\"featureBandNamePrefix\")\n",
    "zoneBiomeNum    = zoneBiomePref + zoneNumSuff\n",
    "zoneBiomeLabels = list(ast.literal_eval(configZnBiomes.get(\"biomeLabels\")))\n",
    "zoneBiomeOhe    = [zoneBiomePref + zoneOheSuff + label for label in zoneBiomeLabels]\n",
    "\n",
    "configZnGeolAge = config['AOI-CLASSIFICATION-ZONES-GEOLOGICAL-AGE']\n",
    "zoneGeolAgePref = configZnGeolAge.get(\"featureBandNamePrefix\")\n",
    "zoneGeolAgeNum  = zoneGeolAgePref + zoneNumSuff\n",
    "zoneGeolAgeLabels = list(ast.literal_eval(configZnGeolAge.get(\"geologicalAgeNames\")))\n",
    "zoneGeolAgeOhe    = [zoneGeolAgePref + zoneOheSuff + label for label in zoneGeolAgeLabels]\n",
    "\n",
    "elev_seg = config.get('FEATURES-ELEVATION', 'featureBandNameElevSegmented')\n",
    "ppt_seg = config.get('FEATURES-PRECIPITATION', 'featureBandNameAnnRainSegmented')\n",
    "topoMtpi_seg = config.get('FEATURES-TOPOGRAPHY-MTPI', 'featureBandNameTopoMtpiSegmented')\n",
    "topoHand_seg = config.get('FEATURES-TOPOGRAPHY-HAND', 'featureBandNameTopoHandSegmented')\n",
    "aoi = config.get('AOI', 'bandNameAOI')\n",
    "\n",
    "lon = \"longitude\"\n",
    "lat = \"latitude\""
   ]
  },
  {
   "cell_type": "markdown",
   "id": "e992141b-27dc-46bd-8d01-4b5e35a9f06d",
   "metadata": {},
   "source": [
    "Gather them all into a list of lists, where sublists are conceptually grouped set of features.\n",
    "\n",
    "**NOTE:** \n",
    "* The nesting should be one-deep, no more, no less\n",
    "* Classification zones feature/s appear differently in the list, depending on whether they have numerical or one-hot encoding\n",
    "  * Numeric: `[zoneNum]`, because it is a single band raster\n",
    "  * One-hot: `zoneOhe`, because it is a multiband raster, and `zoneOhe` is already a list with all the bands"
   ]
  },
  {
   "cell_type": "code",
   "execution_count": 3,
   "id": "5734c669-3f33-4a27-9339-e65c8cad2541",
   "metadata": {},
   "outputs": [],
   "source": [
    "def flattenList(nestedList):\n",
    "    fl = []\n",
    "    for sublist in nestedList:\n",
    "        fl = fl + sublist\n",
    "    return fl\n",
    "\n",
    "gatheredFromConfig = [ \\\n",
    "    [phase, ampl, offset, trend, phase_seg, ampl_seg], \\\n",
    "    [dBrt, dGrn, dWet, wBrt, wGrn, wWet, tctdiff, dBrt_seg, dGrn_seg, dWet_seg, wBrt_seg, wGrn_seg, wWet_seg, tctdiff_seg], \\\n",
    "    [ndviMin, ndviMed, ndviMax, grnExt, brnExt, grnbrnNd, ndviMed_seg, grnExt_seg, brnExt_seg, grnbrnNd_seg], \\\n",
    "    [palsar, palsar_seg], \\\n",
    "    [etSoil, etVeg, etSoil_seg, etVeg_seg], \\\n",
    "    [elev_seg], \\\n",
    "    [ppt_seg], \\\n",
    "    [topoMtpi_seg, topoHand_seg], \\\n",
    "    [geomorphRugged, geomorphRugged_seg], \\\n",
    "    [zoneStateNum], \\\n",
    "    zoneStateOhe, \\\n",
    "    [zoneBiomeNum], \\\n",
    "    zoneBiomeOhe, \\\n",
    "    [zoneGeolAgeNum], \\\n",
    "    zoneGeolAgeOhe, \\\n",
    "    [lon, lat], \\\n",
    "    [aoi]]\n",
    "\n",
    "fromConfigFlattened = flattenList(gatheredFromConfig)"
   ]
  },
  {
   "cell_type": "markdown",
   "id": "e4dccb50-9d90-443d-ab2a-55ca2bb768fa",
   "metadata": {},
   "source": [
    "## Feature names from saved feature rasters\n",
    "\n",
    "The function `assembleAllExistingFeatureRasters()` in the `generateFeatures` module gathers all relevant rasters from the config-designated folder of EE assets.\n",
    "\n",
    "It \"manually\" reads-in all feature rasters using their generation functions, but with `returnExisting` flag set to `True`.\n"
   ]
  },
  {
   "cell_type": "code",
   "execution_count": 4,
   "id": "3d0d5a59-ce76-4ce3-bd0a-a5813b058eeb",
   "metadata": {},
   "outputs": [],
   "source": [
    "fromFeatureFolder = generateFeatures.assembleAllExistingFeatureRasters().bandNames()"
   ]
  },
  {
   "cell_type": "markdown",
   "id": "785362c0-218c-422a-ab58-edbcd01c0c42",
   "metadata": {},
   "source": [
    "## Compare & check for full match"
   ]
  },
  {
   "cell_type": "code",
   "execution_count": 5,
   "id": "300e7a47-5895-48b0-be24-65e48f064c96",
   "metadata": {},
   "outputs": [
    {
     "name": "stdout",
     "output_type": "stream",
     "text": [
      "Features from config file: ['phase', 'amplitude', 'offset', 'trend', 'phase_seg', 'amplitude_seg', 'd_brt', 'd_grn', 'd_wet', 'w_brt', 'w_grn', 'w_wet', 'tct_diff', 'd_brt_seg', 'd_grn_seg', 'd_wet_seg', 'w_brt_seg', 'w_grn_seg', 'w_wet_seg', 'tct_diff_seg', 'mn', 'md', 'mx', 'grng_ext', 'brng_ext', 'nd_grbr', 'md_seg', 'grng_ext_seg', 'brng_ext_seg', 'nd_grbr_seg', 'palsar', 'palsar_seg', 'et_soil', 'et_veg', 'et_soil_seg', 'et_veg_seg', 'elev_seg', 'annrf_seg', 'topo_seg', 'topo_hand_seg', 'ruggedness', 'ruggedness_seg', 'zoneStateNum', 'zoneStateOhe_pbbh', 'zoneStateOhe_rj', 'zoneStateOhe_gj', 'zoneStateOhe_mh', 'zoneStateOhe_mpod', 'zoneStateOhe_aptg', 'zoneStateOhe_tn', 'zoneStateOhe_ka', 'zoneBiomeNum', 'zoneBiomeOhe_na', 'zoneBiomeOhe_fldgrssvn', 'zoneBiomeOhe_mntgrsshrb', 'zoneBiomeOhe_trsubtrmoistblfor', 'zoneBiomeOhe_tmpconiffor', 'zoneBiomeOhe_tempblmixdfor', 'zoneBiomeOhe_trsubtrconiffor', 'zoneBiomeOhe_mngr', 'zoneBiomeOhe_desxershrb', 'zoneBiomeOhe_trsubtrdryblfor', 'zoneBiomeOhe_trsubtrgrssvnshrb', 'zoneGeologicalAgeNum', 'zoneGeologicalAgeOhe_precambrian', 'zoneGeologicalAgeOhe_deccantraps', 'zoneGeologicalAgeOhe_quaternarysediments', 'zoneGeologicalAgeOhe_quaternarydunes', 'zoneGeologicalAgeOhe_others', 'longitude', 'latitude', 'aoiWithLabels']\n",
      "Features from asset rasters: ['phase', 'amplitude', 'offset', 'trend', 'phase_seg', 'amplitude_seg', 'd_brt', 'd_grn', 'd_wet', 'w_brt', 'w_grn', 'w_wet', 'tct_diff', 'd_brt_seg', 'd_grn_seg', 'd_wet_seg', 'w_brt_seg', 'w_grn_seg', 'w_wet_seg', 'tct_diff_seg', 'mn', 'md', 'mx', 'grng_ext', 'brng_ext', 'nd_grbr', 'md_seg', 'brng_ext_seg', 'grng_ext_seg', 'nd_grbr_seg', 'palsar', 'palsar_seg', 'et_veg', 'et_soil', 'et_soil_seg', 'et_veg_seg', 'elev_seg', 'annrf_seg', 'topo_seg', 'topo_hand_seg', 'ruggedness', 'ruggedness_seg', 'longitude', 'latitude', 'zoneStateNum', 'zoneStateOhe_pbbh', 'zoneStateOhe_rj', 'zoneStateOhe_gj', 'zoneStateOhe_mh', 'zoneStateOhe_mpod', 'zoneStateOhe_aptg', 'zoneStateOhe_tn', 'zoneStateOhe_ka', 'zoneBiomeNum', 'zoneBiomeOhe_na', 'zoneBiomeOhe_fldgrssvn', 'zoneBiomeOhe_mntgrsshrb', 'zoneBiomeOhe_trsubtrmoistblfor', 'zoneBiomeOhe_tmpconiffor', 'zoneBiomeOhe_tempblmixdfor', 'zoneBiomeOhe_trsubtrconiffor', 'zoneBiomeOhe_mngr', 'zoneBiomeOhe_desxershrb', 'zoneBiomeOhe_trsubtrdryblfor', 'zoneBiomeOhe_trsubtrgrssvnshrb', 'zoneGeologicalAgeNum', 'zoneGeologicalAgeOhe_precambrian', 'zoneGeologicalAgeOhe_deccantraps', 'zoneGeologicalAgeOhe_quaternarysediments', 'zoneGeologicalAgeOhe_quaternarydunes', 'zoneGeologicalAgeOhe_others', 'aoiWithLabels']\n",
      "Asset folder for rasters: projects/ee-open-natural-ecosystems/assets/finalSprint/\n",
      "Full match between the two (True/False): True\n"
     ]
    }
   ],
   "source": [
    "print(\"Features from config file:\", fromConfigFlattened)\n",
    "print(\"Features from asset rasters:\", fromFeatureFolder.getInfo())\n",
    "print(\"Asset folder for rasters:\", config.get('CORE', 'assetFolderWithFeatures'))\n",
    "\n",
    "print(\"Full match between the two (True/False):\", ee.List(fromConfigFlattened).containsAll(fromFeatureFolder).getInfo())"
   ]
  },
  {
   "cell_type": "markdown",
   "id": "7a7ab20f-c78e-4c35-ba1d-be2010368abe",
   "metadata": {
    "tags": []
   },
   "source": [
    "## In case check fails...\n",
    "\n",
    "... it means that updates to either the config file or raster set handled by `assembleAllExistingFeatureRasters()` has not been made to reflect in the other. \n",
    "\n",
    "Check for minor mistakes in either one or both of them.\n",
    "\n",
    "OR\n",
    "\n",
    "Check whether a new feature was recently added to the module and if it was done thoroughly:\n",
    "* A separate section for it added in the `config.ini`, where its feature names are set\n",
    "  * And it added to the [appropriate section here at the top here](#Feature-names-from-config-file)\n",
    "* A separate function for it added in the `generateFeatures` module, that follows the standard structure as others with `returnExisting` and `startFreshExport` handling\n",
    "  * Followed by its at least one successful execution with `startFreshExport = True`\n",
    "* It getting added to the `assembleAllExistingFeatureRasters()`, with `returnExisting = True`"
   ]
  },
  {
   "cell_type": "markdown",
   "id": "8c711974-7e65-41a3-b233-9eb02e83b0e9",
   "metadata": {
    "tags": []
   },
   "source": [
    "# Run classification, after selecting features, classifier and zone encoding mode\n",
    "\n",
    "The `trainAndPredict()` function in the `classifyAndAssess` module is the workhorse for performing the classification workflow. It -\n",
    "* trains a model (on a training fraction it creates on-the-fly)\n",
    "* predicts with it to create the probability raster and calculates classifier accuracy metrics\n",
    "* predicts with it to create the predicted points table, with the chosen input features, top1Label, classwise probabilities\n",
    "* exports the predicted raster, predicted points table and a featurecollection with accuracy metrics"
   ]
  },
  {
   "cell_type": "markdown",
   "id": "e2f06798-1dd0-401d-a912-76ceeaf37f40",
   "metadata": {},
   "source": [
    "## HOW TO prepare a set of features to run classification with\n",
    "\n",
    "Make a list of feature band names, using names in the [config file section above](#Feature-names-from-config-file), meant as input bands into the classifier. \n",
    "\n",
    "Since some of them are lists themselves, be sure to build the list here correctly, and then flatten it. See example below"
   ]
  },
  {
   "cell_type": "code",
   "execution_count": 6,
   "id": "79ba1bd2-5af4-457e-8d12-21de746009bd",
   "metadata": {},
   "outputs": [
    {
     "name": "stdout",
     "output_type": "stream",
     "text": [
      "Selected list of features: ['phase_seg', 'amplitude_seg', 'palsar_seg', 'md_seg', 'grng_ext_seg', 'brng_ext_seg', 'nd_grbr_seg', 'topo_hand_seg', 'tct_diff_seg', 'elev_seg', 'longitude', 'latitude', 'zoneStateNum']\n"
     ]
    }
   ],
   "source": [
    "# Set of features used in V1, with zoneNum added on -- which is used for region-wise assessment.\n",
    "fs = [ \\\n",
    "      [phase_seg, ampl_seg], \\\n",
    "      [palsar_seg], \\\n",
    "      [ndviMed_seg, grnExt_seg, brnExt_seg, grnbrnNd_seg], \\\n",
    "      [topoHand_seg], \\\n",
    "      [tctdiff_seg], \\\n",
    "      [elev_seg], \\\n",
    "      [lon, lat], \\\n",
    "      [zoneStateNum]]\n",
    "fsFlattened = flattenList(fs)\n",
    "print(\"Selected list of features:\", fsFlattened)"
   ]
  },
  {
   "cell_type": "markdown",
   "id": "6cc5de0c-ac2a-4ea5-baf4-3eb98f0e81a9",
   "metadata": {},
   "source": [
    "## HOW TO prepare classifier options and run, to export result into config-set location\n",
    "\n",
    "Classifier options and features options are set as dictionaries and passed into the `trainAndPredict()` function.\n",
    "* Classifier options currently supported:\n",
    "  * `classifier`\n",
    "    * _RandomForest_\n",
    "    * _GradientBoostedTrees_\n",
    "  * `numTrees`\n",
    "    * number of trees in the classifier: passed to `numberOfTrees` argument of the trees `ee.Classifier.*` calls\n",
    "  * `trainFraction`\n",
    "    * Used for the train fraction of the train-test random split of labeled points\n",
    "* Features options currently support:\n",
    "  * `names`\n",
    "    * list of names of features to use in the classification. Should include the zones encoded raster also\n",
    "  * `zonationBasis`\n",
    "    * basis on which zonation was done\n",
    "      * _states_ \n",
    "      * _biomes_\n",
    "      * _geologicalAge_\n",
    "      * _None_\n",
    "  * `zoneEncodingMode`\n",
    "    * _numeric_\n",
    "    * _oneHot_\n",
    "    * _None_"
   ]
  },
  {
   "cell_type": "markdown",
   "id": "733e6680-15b9-4c95-b9c6-a2a38ba363e5",
   "metadata": {},
   "source": [
    "## Classify with GBT classifier, all the good features we have and biomes zonation OHE format"
   ]
  },
  {
   "cell_type": "code",
   "execution_count": 7,
   "id": "89972f3d-5628-44a8-86c1-8e64485e8056",
   "metadata": {
    "tags": []
   },
   "outputs": [
    {
     "name": "stdout",
     "output_type": "stream",
     "text": [
      "Result folder creation error (if any): b'Asset projects/ee-open-natural-ecosystems/assets/finalSprint/globalModelGbtBiomeZonesOhe already exists.\\n' None\n"
     ]
    }
   ],
   "source": [
    "cOpts_gbt200 = dict(classifier = \"GradientBoostedTrees\", numTrees = 200, trainFraction = 0.7)\n",
    "globalModelGbtBiomesZonesOhe = [ \\\n",
    "                 [phase_seg, ampl_seg], \\\n",
    "                 [palsar_seg], \\\n",
    "                 [ndviMed_seg, grnExt_seg, brnExt_seg, grnbrnNd_seg], \\\n",
    "                 [topoHand_seg], \\\n",
    "                 [topoMtpi_seg], \\\n",
    "                 [dBrt_seg, dGrn_seg, dWet_seg, wBrt_seg, wGrn_seg, wWet_seg, tctdiff_seg], \\\n",
    "                 [ppt_seg], \\\n",
    "                 [elev_seg], \\\n",
    "                 [geomorphRugged_seg], \\\n",
    "                 zoneBiomeOhe]\n",
    "globalModelGbtBiomesZonesOheFlattened = flattenList(globalModelGbtBiomesZonesOhe)\n",
    "fOpts_globalModelGbt_biomeZonesOhe = dict(names = globalModelGbtBiomesZonesOheFlattened, zonationBasis = \"biomes\", zoneEncodingMode = \"oneHot\")\n",
    "\n",
    "resFolderGlobalModelGbtBiomeZonesOhe = \"globalModelGbtBiomeZonesOhe\"\n",
    "createResFolderCmd = f\"earthengine create folder {homeFolder}{resFolderGlobalModelGbtBiomeZonesOhe}\"\n",
    "process = subprocess.Popen(createResFolderCmd.split(), stdout=subprocess.PIPE)\n",
    "folderCreated, error = process.communicate()\n",
    "print(\"Result folder creation error (if any):\", folderCreated, error)"
   ]
  },
  {
   "cell_type": "code",
   "execution_count": 8,
   "id": "1990a952-e24e-4dc0-b34d-81008f53e215",
   "metadata": {},
   "outputs": [],
   "source": [
    "globalModelGbtBiomesZonesOheRes = classifyAndAssess.trainAndPredict(fOpts_globalModelGbt_biomeZonesOhe, cOpts_gbt200, resultNewFolderName = resFolderGlobalModelGbtBiomeZonesOhe, startFreshExport = True)"
   ]
  },
  {
   "cell_type": "code",
   "execution_count": null,
   "id": "54ae2b0a-7cef-4778-8164-06ffb300a460",
   "metadata": {},
   "outputs": [],
   "source": []
  }
 ],
 "metadata": {
  "kernelspec": {
   "display_name": "Python 3 (ipykernel)",
   "language": "python",
   "name": "python3"
  },
  "language_info": {
   "codemirror_mode": {
    "name": "ipython",
    "version": 3
   },
   "file_extension": ".py",
   "mimetype": "text/x-python",
   "name": "python",
   "nbconvert_exporter": "python",
   "pygments_lexer": "ipython3",
   "version": "3.10.2"
  }
 },
 "nbformat": 4,
 "nbformat_minor": 5
}
