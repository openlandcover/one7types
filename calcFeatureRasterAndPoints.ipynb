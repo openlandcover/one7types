{
 "cells": [
  {
   "cell_type": "markdown",
   "id": "85b511ca-be3d-4f26-bef4-bbad56baf83b",
   "metadata": {},
   "source": [
    "# Features for modeling labeled points"
   ]
  },
  {
   "cell_type": "markdown",
   "id": "4b97f881-2731-4dce-9e7f-011ed09eb55a",
   "metadata": {},
   "source": [
    "## Import modules & libraries, initialize EE"
   ]
  },
  {
   "cell_type": "code",
   "execution_count": 1,
   "id": "600d98fa-5d79-429e-b4e8-51fe38d72233",
   "metadata": {},
   "outputs": [],
   "source": [
    "import math\n",
    "import geemap\n",
    "import ee\n",
    "\n",
    "from areaOfInterestMask import semiarid\n",
    "from featuresForModeling import generateFeatures\n",
    "\n",
    "ee.Initialize()"
   ]
  },
  {
   "cell_type": "markdown",
   "id": "2cf96e7d-c49d-4e65-8af6-91faa4999f31",
   "metadata": {},
   "source": [
    "## Calculate features"
   ]
  },
  {
   "cell_type": "markdown",
   "id": "e600ce7f-350a-4d57-8d0e-a5643600a891",
   "metadata": {},
   "source": [
    "### Seasonality using a phenology model"
   ]
  },
  {
   "cell_type": "code",
   "execution_count": 2,
   "id": "e87290cb-babd-4f79-a09e-df109b0c0d07",
   "metadata": {},
   "outputs": [
    {
     "data": {
      "application/vnd.jupyter.widget-view+json": {
       "model_id": "a7aac4bdbacf4b84880e020907465b4f",
       "version_major": 2,
       "version_minor": 0
      },
      "text/plain": [
       "Map(center=[20, 0], controls=(WidgetControl(options=['position', 'transparent_bg'], widget=HBox(children=(Togg…"
      ]
     },
     "metadata": {},
     "output_type": "display_data"
    }
   ],
   "source": [
    "l8srSeasonalityParams = generateFeatures.seasonalityParamsL8(returnExisting = True)\n",
    "\n",
    "# rgb visualisation as sanity check\n",
    "# Instead of harmonicLS8sr.select('NDVI').median().multiply(1) as band 3 in original notebook,\n",
    "# using l8srSeasonalityParams.select('amplitude').multiply(5), because \n",
    "# harmonicLS8sr NDVI band is used only for viz here, so not exposed in generateFeatures\n",
    "rgb = ee.Image.cat(\n",
    "    l8srSeasonalityParams.select('phase').unitScale(-math.pi, math.pi),\n",
    "    l8srSeasonalityParams.select('amplitude').multiply(5),\n",
    "    l8srSeasonalityParams.select('amplitude').multiply(5)).hsvToRgb()\n",
    "\n",
    "Map = geemap.Map()\n",
    "Map.addLayer(rgb, {}, 'Phenology')\n",
    "Map"
   ]
  },
  {
   "cell_type": "markdown",
   "id": "d3bd3af4-4258-4274-9d9b-85e07bd297a0",
   "metadata": {
    "tags": []
   },
   "source": [
    "### Tasselled cap coefficients"
   ]
  },
  {
   "cell_type": "code",
   "execution_count": 3,
   "id": "ba3919ba-2764-4345-964b-c4da7ca7b033",
   "metadata": {
    "tags": []
   },
   "outputs": [],
   "source": [
    "tct_1719 = generateFeatures.tasselledCapCoeffsL8(returnExisting = True)\n",
    "diff = tct_1719.select('tct_diff_seg')\n",
    "\n",
    "Map.addLayer(diff, {}, 'tct_difference')"
   ]
  },
  {
   "cell_type": "markdown",
   "id": "98fa625f-d19b-491b-bca6-01183fe400c1",
   "metadata": {
    "tags": []
   },
   "source": [
    "### Inter-percentile differences in multi-temporal NDVI"
   ]
  },
  {
   "cell_type": "code",
   "execution_count": 4,
   "id": "8cf769b8-7963-4216-a75e-91db586490ba",
   "metadata": {},
   "outputs": [
    {
     "name": "stdout",
     "output_type": "stream",
     "text": [
      "['mn', 'md', 'mx', 'grng_ext', 'brng_ext', 'nd_grbr', 'md_seg', 'brng_ext_seg', 'grng_ext_seg', 'nd_grbr_seg']\n"
     ]
    }
   ],
   "source": [
    "ndviMultitemporalStats = generateFeatures.multiTemporalInterPercentileDifferencesL8(returnExisting = True)\n",
    "print(ndviMultitemporalStats.bandNames().getInfo())\n",
    "\n",
    "nd_grbr = ndviMultitemporalStats.select('nd_grbr').float()\n",
    "Map.addLayer(nd_grbr.clamp(0,1), {}, 'nd_grbr')"
   ]
  },
  {
   "cell_type": "markdown",
   "id": "8b7407a6-a84c-440e-a23e-5bb1b55288cd",
   "metadata": {},
   "source": [
    "### PALSAR aggregation"
   ]
  },
  {
   "cell_type": "code",
   "execution_count": 5,
   "id": "2d77a313-4d1d-4af2-80a7-3895bbb2f881",
   "metadata": {},
   "outputs": [],
   "source": [
    "palsarMedian = generateFeatures.palsarAggregation(returnExisting = True)\n",
    "\n",
    "Map.addLayer(palsarMedian.clamp(0,1), {}, 'palsar')"
   ]
  },
  {
   "cell_type": "markdown",
   "id": "1de12bfd-1fb8-4ba3-bae1-e66e268c2d98",
   "metadata": {},
   "source": [
    "### Evapo Transpiration aggregation"
   ]
  },
  {
   "cell_type": "code",
   "execution_count": 6,
   "id": "08d3d26d-3424-4af5-9902-9c02777086db",
   "metadata": {},
   "outputs": [],
   "source": [
    "etAnn = generateFeatures.evapotranspirationAggregation(returnExisting = True)\n",
    "\n",
    "Map.addLayer(etAnn.clamp(0,1), {}, 'et')"
   ]
  },
  {
   "cell_type": "markdown",
   "id": "399aa716-f7a2-405c-8e0c-31bf6358f8ab",
   "metadata": {
    "tags": []
   },
   "source": [
    "### Elevation aggregation"
   ]
  },
  {
   "cell_type": "code",
   "execution_count": 7,
   "id": "f37d8baf-9565-48f1-b775-e1b7378652b0",
   "metadata": {},
   "outputs": [
    {
     "name": "stdout",
     "output_type": "stream",
     "text": [
      "['elev_seg']\n"
     ]
    }
   ],
   "source": [
    "elev = generateFeatures.elevationAggregation(returnExisting = True)\n",
    "print(elev.bandNames().getInfo())\n",
    "Map.addLayer(elev.clamp(0,1), {}, 'elev_seg')"
   ]
  },
  {
   "cell_type": "markdown",
   "id": "d9d6bae3-6bd3-4e68-94d1-bc7806f88b1f",
   "metadata": {},
   "source": [
    "### Precipitation aggregation"
   ]
  },
  {
   "cell_type": "code",
   "execution_count": 8,
   "id": "376f4b5f-a04d-451c-8004-f2bed220d0c5",
   "metadata": {},
   "outputs": [
    {
     "name": "stdout",
     "output_type": "stream",
     "text": [
      "['annrf_seg']\n"
     ]
    }
   ],
   "source": [
    "ppt = generateFeatures.precipitationAggregation(returnExisting = True)\n",
    "print(ppt.bandNames().getInfo())\n",
    "Map.addLayer(ppt.clamp(0,1), {}, 'ppt_seg')"
   ]
  },
  {
   "cell_type": "markdown",
   "id": "2a1b488d-9234-4660-815a-fad8dda29b44",
   "metadata": {
    "tags": []
   },
   "source": [
    "### Topography (MTPI) aggregation"
   ]
  },
  {
   "cell_type": "code",
   "execution_count": 9,
   "id": "8e721deb-c03b-43a5-b5f5-1e4d007906c9",
   "metadata": {},
   "outputs": [
    {
     "name": "stdout",
     "output_type": "stream",
     "text": [
      "['topo_seg']\n"
     ]
    }
   ],
   "source": [
    "topo_mtpi = generateFeatures.topographyMtpiAggregation(returnExisting = True)\n",
    "print(topo_mtpi.bandNames().getInfo())\n",
    "Map.addLayer(topo_mtpi.clamp(0,1), {}, 'topo_mtpi_seg')"
   ]
  },
  {
   "cell_type": "markdown",
   "id": "5405720d-4d6e-42f1-acf4-ffeb0fdb54a8",
   "metadata": {},
   "source": [
    "### Topography (HAND) aggregation"
   ]
  },
  {
   "cell_type": "code",
   "execution_count": 10,
   "id": "fae48916-2992-4be0-bdbd-3de8217c8716",
   "metadata": {
    "tags": []
   },
   "outputs": [
    {
     "name": "stdout",
     "output_type": "stream",
     "text": [
      "['topo_hand_seg']\n"
     ]
    }
   ],
   "source": [
    "topo_hand = generateFeatures.topographyHandAggregation(returnExisting = True)\n",
    "print(topo_hand.bandNames().getInfo())\n",
    "Map.addLayer(topo_hand.clamp(0,1), {}, 'topo_hand_seg')"
   ]
  },
  {
   "cell_type": "markdown",
   "id": "6517b41a-d991-4e6a-889b-d0bb5d50ad06",
   "metadata": {},
   "source": [
    "### Geomorphology Terrain Ruggedness Index (TRI) aggregation"
   ]
  },
  {
   "cell_type": "code",
   "execution_count": null,
   "id": "4720c04e-c156-415e-ac04-f1dbd6a232d5",
   "metadata": {
    "tags": []
   },
   "outputs": [],
   "source": [
    "geom_tri = generateFeatures.geomorphologyTerrainRuggednessAggregation(returnExisting = True)\n",
    "print(geom_tri.bandNames().getInfo())\n",
    "Map.addLayer(geom_tri.clamp(0,1), {}, 'geom_tri_seg')"
   ]
  },
  {
   "cell_type": "markdown",
   "id": "a1887b8f-6ce7-47c0-a386-03fed558cd67",
   "metadata": {
    "tags": []
   },
   "source": [
    "## Assemble all features (and/or their segmented versions) into a composite and export"
   ]
  },
  {
   "cell_type": "code",
   "execution_count": null,
   "id": "40a41153-de56-4859-9767-50802b8f2874",
   "metadata": {},
   "outputs": [],
   "source": [
    "sampledPoints = generateFeatures.assembleFeatureBandsAndExport(startFreshExport = True)\n",
    "print(sampledPoints.first().propertyNames().getInfo())\n",
    "Map.addLayer(sampledPoints, {}, 'sampled points')"
   ]
  },
  {
   "cell_type": "code",
   "execution_count": null,
   "id": "2a45c42a-ad67-4763-a23f-b29072606514",
   "metadata": {},
   "outputs": [],
   "source": []
  }
 ],
 "metadata": {
  "kernelspec": {
   "display_name": "Python 3 (ipykernel)",
   "language": "python",
   "name": "python3"
  },
  "language_info": {
   "codemirror_mode": {
    "name": "ipython",
    "version": 3
   },
   "file_extension": ".py",
   "mimetype": "text/x-python",
   "name": "python",
   "nbconvert_exporter": "python",
   "pygments_lexer": "ipython3",
   "version": "3.10.2"
  },
  "toc-showtags": false
 },
 "nbformat": 4,
 "nbformat_minor": 5
}
