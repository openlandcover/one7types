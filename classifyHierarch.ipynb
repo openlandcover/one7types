{
 "cells": [
  {
   "cell_type": "markdown",
   "id": "69efacff-bdc4-476b-a1f7-7601c99e7127",
   "metadata": {},
   "source": [
    "# [ **RUN ALWAYS** ] Import, initialize"
   ]
  },
  {
   "cell_type": "code",
   "execution_count": 1,
   "id": "ef40b138-b29c-4efa-b684-82e95aeeed5d",
   "metadata": {
    "tags": []
   },
   "outputs": [],
   "source": [
    "import math\n",
    "import geemap\n",
    "import ee\n",
    "import configparser as cp\n",
    "import io\n",
    "import ast\n",
    "import subprocess\n",
    "\n",
    "from classification import classifyAndAssess\n",
    "from featuresForModeling import generateFeatures\n",
    "\n",
    "ee.Initialize(project = \"ee-app-tr-condit-1540393218181\")"
   ]
  },
  {
   "cell_type": "markdown",
   "id": "89becf83-9e70-4fc3-8b43-75392a0c2846",
   "metadata": {
    "tags": []
   },
   "source": [
    "# [ **RUN ALWAYS** ] Check that features available via config file matches those in the set of feature rasters\n",
    "\n",
    "Each feature is created separately, in the `featuresForModeling` module, and exported as EE assets. The names of each of those features (i.e., the respective raster bandnames) are derived from the `config.ini` file and set at export time.\n",
    "\n",
    "In this section, we read in the names from `config.ini` and compare that list with that from the feature raster assets. If the two do not match, it might be best to go back to the `featuresForModeling` module and fix it before proceeding here."
   ]
  },
  {
   "cell_type": "markdown",
   "id": "47a377b0-a13c-4b90-a72a-9d89950b3142",
   "metadata": {
    "tags": []
   },
   "source": [
    "## Feature names from config file\n",
    "\n",
    "Read-in, one by one, names of all features as stored in the config file.\n",
    "\n",
    "**NOTE:** \n",
    "* This is done by manually scanning the config file. There is currently no way to do this programmatically. \n",
    "* `lon` and `lat` are not set in the config file, so are initialized here. Because they are not generated & saved as feature rasters but are simply invoked with `ee.Image.pixelLonLat()` at labeled points sampling time."
   ]
  },
  {
   "cell_type": "code",
   "execution_count": 2,
   "id": "bb249abb-2dcd-43a6-b7e6-3bad2432a9c2",
   "metadata": {},
   "outputs": [
    {
     "data": {
      "text/html": [
       "\n",
       "            <style>\n",
       "                .geemap-dark {\n",
       "                    --jp-widgets-color: white;\n",
       "                    --jp-widgets-label-color: white;\n",
       "                    --jp-ui-font-color1: white;\n",
       "                    --jp-layout-color2: #454545;\n",
       "                    background-color: #383838;\n",
       "                }\n",
       "                    \n",
       "                .geemap-dark .jupyter-button {\n",
       "                    --jp-layout-color3: #383838;\n",
       "                }\n",
       "                \n",
       "                .geemap-colab {\n",
       "                    background-color: var(--colab-primary-surface-color, white);\n",
       "                }\n",
       "                    \n",
       "                .geemap-colab .jupyter-button {\n",
       "                    --jp-layout-color3: var(--colab-primary-surface-color, white);\n",
       "                }\n",
       "            </style>\n",
       "            "
      ],
      "text/plain": [
       "<IPython.core.display.HTML object>"
      ]
     },
     "metadata": {},
     "output_type": "display_data"
    }
   ],
   "source": [
    "with open(\"config.ini\", 'r') as f:\n",
    "    fileContents = f.read()\n",
    "config = cp.RawConfigParser(allow_no_value = True, interpolation = cp.ExtendedInterpolation())\n",
    "config.read_file(io.StringIO(fileContents))\n",
    "\n",
    "homeFolder = config.get('CORE', 'assetFolderWithFeatures')\n",
    "\n",
    "configSeas = config['FEATURES-SEASONALITY']\n",
    "phase      = configSeas.get('featureBandNamePhase')\n",
    "ampl       = configSeas.get('featureBandNameAmplitude')\n",
    "offset     = configSeas.get('featureBandNameOffset')\n",
    "trend      = configSeas.get('featureBandNameTrend')\n",
    "phase_seg  = configSeas.get('featureBandNamePhaseSegmented')\n",
    "ampl_seg   = configSeas.get('featureBandNameAmplitudeSegmented')\n",
    "\n",
    "configTCTd  = config['FEATURES-TASSELLEDCAP']\n",
    "dBrt        = configTCTd.get('featureBandNameDrySeasonBrightness')\n",
    "dGrn        = configTCTd.get('featureBandNameDrySeasonGreenness')\n",
    "dWet        = configTCTd.get('featureBandNameDrySeasonWetness')\n",
    "wBrt        = configTCTd.get('featureBandNameWetSeasonBrightness')\n",
    "wGrn        = configTCTd.get('featureBandNameWetSeasonGreenness')\n",
    "wWet        = configTCTd.get('featureBandNameWetSeasonWetness')\n",
    "tctdiff     = configTCTd.get('featureBandNameTCTDifference')\n",
    "dBrt_seg    = dBrt + '_seg'\n",
    "dGrn_seg    = dGrn + '_seg'\n",
    "dWet_seg    = dWet + '_seg'\n",
    "wBrt_seg    = wBrt + '_seg'\n",
    "wGrn_seg    = wGrn + '_seg'\n",
    "wWet_seg    = wWet + '_seg'\n",
    "tctdiff_seg = configTCTd.get('featureBandNameTCTDifferenceSegmented')\n",
    "\n",
    "configGrBr   = config['FEATURES-GREENINGTEMPORALSTATS']\n",
    "ndviMin      = configGrBr.get('featureBandNameGreening5thPerc')\n",
    "ndviMed      = configGrBr.get('featureBandNameGreening50thPerc')\n",
    "ndviMax      = configGrBr.get('featureBandNameGreening95thPerc')\n",
    "grnExt       = configGrBr.get('featureBandNameGreeningExtent')\n",
    "brnExt       = configGrBr.get('featureBandNameBrowningExtent')\n",
    "grnbrnNd     = configGrBr.get('featureBandNameGrningBrningNd')\n",
    "ndviMed_seg  = configGrBr.get('featureBandNameGreening50thPercSegmented')\n",
    "grnExt_seg   = configGrBr.get('featureBandNameGreeningExtentSegmented')\n",
    "brnExt_seg   = configGrBr.get('featureBandNameBrowningExtentSegmented')\n",
    "grnbrnNd_seg = configGrBr.get('featureBandNameGrningBrningNdSegmented')\n",
    "\n",
    "configPalsar = config['FEATURES-PALSAR']\n",
    "palsar       = configPalsar.get('featureBandNamePalsarMedian')\n",
    "palsar_seg   = configPalsar.get('featureBandNamePalsarMedianSegmented')\n",
    "\n",
    "configPalsarScansar      = config['FEATURES-PALSAR-SCANSAR']\n",
    "palsarScansar            = configPalsarScansar.get('featureBandNamePalsarScansarMedian')\n",
    "palsarScansar_seg        = configPalsarScansar.get('featureBandNamePalsarScansarMedianSegmented')\n",
    "palsarScansarRange       = configPalsarScansar.get('featureBandNamePalsarScansarRange')\n",
    "palsarScansarRange_seg   = configPalsarScansar.get('featureBandNamePalsarScansarRangeSegmented')\n",
    "\n",
    "configEt   = config['FEATURES-EVAPOTRANSPIRATION']\n",
    "etSoil     = configEt.get('featureBandNameEtSoil')\n",
    "etVeg      = configEt.get('featureBandNameEtVeg')\n",
    "etSoil_seg = configEt.get('featureBandNameEtSoilSegmented')\n",
    "etVeg_seg  = configEt.get('featureBandNameEtVegSegmented')\n",
    "\n",
    "configGeomorph = config['FEATURES-TOPOGRAPHY-GEOMORPHOLOGY-RUGGEDNESS']\n",
    "geomorphRugged = configGeomorph.get('featureBandName')\n",
    "geomorphRugged_seg = configGeomorph.get('featureBandNameGeomorphRuggedSegmented')\n",
    "\n",
    "configCanopyHeight   = config['FEATURES-CANOPY-HEIGHT']\n",
    "cnpyheight           = configCanopyHeight.get('featureBandName')\n",
    "cnpyheightStdDev     = configCanopyHeight.get('featureStdDevBandName')\n",
    "cnpyheight_seg       = configCanopyHeight.get('featureBandNameCanopyHeightSegmented')\n",
    "cnpyheightStdDev_seg = configCanopyHeight.get('featureBandNameCanopyHeightStdDevSegmented')\n",
    "    \n",
    "zoneNumSuff = 'Num'\n",
    "zoneOheSuff = 'Ohe_'\n",
    "\n",
    "configZnStates   = config['AOI-CLASSIFICATION-ZONES-STATES']\n",
    "zoneStatePref    = configZnStates.get(\"featureBandNamePrefix\")\n",
    "zoneStateNum     = zoneStatePref + zoneNumSuff\n",
    "zoneStateLabels  = list(ast.literal_eval(configZnStates.get(\"groupsOfStatesLabels\")))\n",
    "zoneStateOhe     = [zoneStatePref + zoneOheSuff + label for label in zoneStateLabels]\n",
    "\n",
    "configZnBiomes  = config['AOI-CLASSIFICATION-ZONES-BIOMES']\n",
    "zoneBiomePref   = configZnBiomes.get(\"featureBandNamePrefix\")\n",
    "zoneBiomeNum    = zoneBiomePref + zoneNumSuff\n",
    "zoneBiomeLabels = list(ast.literal_eval(configZnBiomes.get(\"biomeLabels\")))\n",
    "zoneBiomeOhe    = [zoneBiomePref + zoneOheSuff + label for label in zoneBiomeLabels]\n",
    "\n",
    "configZnGeolAge = config['AOI-CLASSIFICATION-ZONES-GEOLOGICAL-AGE']\n",
    "zoneGeolAgePref = configZnGeolAge.get(\"featureBandNamePrefix\")\n",
    "zoneGeolAgeNum  = zoneGeolAgePref + zoneNumSuff\n",
    "zoneGeolAgeLabels = list(ast.literal_eval(configZnGeolAge.get(\"geologicalAgeNames\")))\n",
    "zoneGeolAgeOhe    = [zoneGeolAgePref + zoneOheSuff + label for label in zoneGeolAgeLabels]\n",
    "\n",
    "elev_seg = config.get('FEATURES-ELEVATION', 'featureBandNameElevSegmented')\n",
    "ppt_seg = config.get('FEATURES-PRECIPITATION', 'featureBandNameAnnRainSegmented')\n",
    "topoMtpi_seg = config.get('FEATURES-TOPOGRAPHY-MTPI', 'featureBandNameTopoMtpiSegmented')\n",
    "topoHand_seg = config.get('FEATURES-TOPOGRAPHY-HAND', 'featureBandNameTopoHandSegmented')\n",
    "aoi = config.get('AOI', 'bandNameAOI')\n",
    "\n",
    "lon = \"longitude\"\n",
    "lat = \"latitude\""
   ]
  },
  {
   "cell_type": "markdown",
   "id": "4700e89e-327c-436c-afb4-b22225ca514e",
   "metadata": {},
   "source": [
    "Gather them all into a list of lists, where sublists are conceptually grouped set of features.\n",
    "\n",
    "**NOTE:** \n",
    "* The nesting should be one-deep, no more, no less\n",
    "* Classification zones feature/s appear differently in the list, depending on whether they have numerical or one-hot encoding\n",
    "  * Numeric: `[zoneNum]`, because it is a single band raster\n",
    "  * One-hot: `zoneOhe`, because it is a multiband raster, and `zoneOhe` is already a list with all the bands"
   ]
  },
  {
   "cell_type": "code",
   "execution_count": 3,
   "id": "3a9e6eb1-9abe-4d5b-aea0-74889020f01d",
   "metadata": {},
   "outputs": [
    {
     "data": {
      "text/html": [
       "\n",
       "            <style>\n",
       "                .geemap-dark {\n",
       "                    --jp-widgets-color: white;\n",
       "                    --jp-widgets-label-color: white;\n",
       "                    --jp-ui-font-color1: white;\n",
       "                    --jp-layout-color2: #454545;\n",
       "                    background-color: #383838;\n",
       "                }\n",
       "                    \n",
       "                .geemap-dark .jupyter-button {\n",
       "                    --jp-layout-color3: #383838;\n",
       "                }\n",
       "                \n",
       "                .geemap-colab {\n",
       "                    background-color: var(--colab-primary-surface-color, white);\n",
       "                }\n",
       "                    \n",
       "                .geemap-colab .jupyter-button {\n",
       "                    --jp-layout-color3: var(--colab-primary-surface-color, white);\n",
       "                }\n",
       "            </style>\n",
       "            "
      ],
      "text/plain": [
       "<IPython.core.display.HTML object>"
      ]
     },
     "metadata": {},
     "output_type": "display_data"
    }
   ],
   "source": [
    "def flattenList(nestedList):\n",
    "    fl = []\n",
    "    for sublist in nestedList:\n",
    "        fl = fl + sublist\n",
    "    return fl\n",
    "\n",
    "gatheredFromConfig = [ \\\n",
    "    [phase, ampl, offset, trend, phase_seg, ampl_seg], \\\n",
    "    [dBrt, dGrn, dWet, wBrt, wGrn, wWet, tctdiff, dBrt_seg, dGrn_seg, dWet_seg, wBrt_seg, wGrn_seg, wWet_seg, tctdiff_seg], \\\n",
    "    [ndviMin, ndviMed, ndviMax, grnExt, brnExt, grnbrnNd, ndviMed_seg, grnExt_seg, brnExt_seg, grnbrnNd_seg], \\\n",
    "    [palsar, palsar_seg], \\\n",
    "    [palsarScansar, palsarScansar_seg, palsarScansarRange, palsarScansarRange_seg], \\\n",
    "    [etSoil, etVeg, etSoil_seg, etVeg_seg], \\\n",
    "    [elev_seg], \\\n",
    "    [ppt_seg], \\\n",
    "    [topoMtpi_seg, topoHand_seg], \\\n",
    "    [geomorphRugged, geomorphRugged_seg], \\\n",
    "    [cnpyheight, cnpyheightStdDev, cnpyheight_seg, cnpyheightStdDev_seg], \\\n",
    "    [zoneStateNum], \\\n",
    "    zoneStateOhe, \\\n",
    "    [zoneBiomeNum], \\\n",
    "    zoneBiomeOhe, \\\n",
    "    [zoneGeolAgeNum], \\\n",
    "    zoneGeolAgeOhe, \\\n",
    "    [lon, lat], \\\n",
    "    [aoi]]\n",
    "\n",
    "fromConfigFlattened = flattenList(gatheredFromConfig)"
   ]
  },
  {
   "cell_type": "markdown",
   "id": "31b3058b-1eb6-46c6-8a0c-4b92c0fd10f1",
   "metadata": {},
   "source": [
    "## Feature names from saved feature rasters\n",
    "\n",
    "The function `assembleAllExistingFeatureRasters()` in the `generateFeatures` module gathers all relevant rasters from the config-designated folder of EE assets.\n",
    "\n",
    "It \"manually\" reads-in all feature rasters using their generation functions, but with `returnExisting` flag set to `True`.\n"
   ]
  },
  {
   "cell_type": "code",
   "execution_count": 4,
   "id": "40ec1582-e776-4512-9b59-486bd4dc18e4",
   "metadata": {},
   "outputs": [
    {
     "data": {
      "text/html": [
       "\n",
       "            <style>\n",
       "                .geemap-dark {\n",
       "                    --jp-widgets-color: white;\n",
       "                    --jp-widgets-label-color: white;\n",
       "                    --jp-ui-font-color1: white;\n",
       "                    --jp-layout-color2: #454545;\n",
       "                    background-color: #383838;\n",
       "                }\n",
       "                    \n",
       "                .geemap-dark .jupyter-button {\n",
       "                    --jp-layout-color3: #383838;\n",
       "                }\n",
       "                \n",
       "                .geemap-colab {\n",
       "                    background-color: var(--colab-primary-surface-color, white);\n",
       "                }\n",
       "                    \n",
       "                .geemap-colab .jupyter-button {\n",
       "                    --jp-layout-color3: var(--colab-primary-surface-color, white);\n",
       "                }\n",
       "            </style>\n",
       "            "
      ],
      "text/plain": [
       "<IPython.core.display.HTML object>"
      ]
     },
     "metadata": {},
     "output_type": "display_data"
    }
   ],
   "source": [
    "fromFeatureFolder = generateFeatures.assembleAllExistingFeatureRasters().bandNames()"
   ]
  },
  {
   "cell_type": "markdown",
   "id": "3099efd9-def8-4e9c-87f8-9da4ec6d04d4",
   "metadata": {},
   "source": [
    "## Compare & check for full match"
   ]
  },
  {
   "cell_type": "code",
   "execution_count": 5,
   "id": "3274ca0d-5d0d-43ef-8b31-8b939819274d",
   "metadata": {},
   "outputs": [
    {
     "data": {
      "text/html": [
       "\n",
       "            <style>\n",
       "                .geemap-dark {\n",
       "                    --jp-widgets-color: white;\n",
       "                    --jp-widgets-label-color: white;\n",
       "                    --jp-ui-font-color1: white;\n",
       "                    --jp-layout-color2: #454545;\n",
       "                    background-color: #383838;\n",
       "                }\n",
       "                    \n",
       "                .geemap-dark .jupyter-button {\n",
       "                    --jp-layout-color3: #383838;\n",
       "                }\n",
       "                \n",
       "                .geemap-colab {\n",
       "                    background-color: var(--colab-primary-surface-color, white);\n",
       "                }\n",
       "                    \n",
       "                .geemap-colab .jupyter-button {\n",
       "                    --jp-layout-color3: var(--colab-primary-surface-color, white);\n",
       "                }\n",
       "            </style>\n",
       "            "
      ],
      "text/plain": [
       "<IPython.core.display.HTML object>"
      ]
     },
     "metadata": {},
     "output_type": "display_data"
    },
    {
     "name": "stdout",
     "output_type": "stream",
     "text": [
      "Features from config file: ['phase', 'amplitude', 'offset', 'trend', 'phase_seg', 'amplitude_seg', 'd_brt', 'd_grn', 'd_wet', 'w_brt', 'w_grn', 'w_wet', 'tct_diff', 'd_brt_seg', 'd_grn_seg', 'd_wet_seg', 'w_brt_seg', 'w_grn_seg', 'w_wet_seg', 'tct_diff_seg', 'mn', 'md', 'mx', 'grng_ext', 'brng_ext', 'nd_grbr', 'md_seg', 'grng_ext_seg', 'brng_ext_seg', 'nd_grbr_seg', 'palsar', 'palsar_seg', 'palsar_scansar_median', 'palsar_scansar_median_seg', 'palsar_scansar_range', 'palsar_scansar_range_seg', 'et_soil', 'et_veg', 'et_soil_seg', 'et_veg_seg', 'elev_seg', 'annrf_seg', 'topo_seg', 'topo_hand_seg', 'ruggedness', 'ruggedness_seg', 'canopyHeight', 'canopyHeightStdDev', 'canopyHeight_seg', 'canopyHeightStdDev_seg', 'zoneStateNum', 'zoneStateOhe_pbbh', 'zoneStateOhe_rj', 'zoneStateOhe_gj', 'zoneStateOhe_mh', 'zoneStateOhe_mpod', 'zoneStateOhe_aptg', 'zoneStateOhe_tn', 'zoneStateOhe_ka', 'zoneBiomeNum', 'zoneBiomeOhe_na', 'zoneBiomeOhe_fldgrssvn', 'zoneBiomeOhe_mntgrsshrb', 'zoneBiomeOhe_trsubtrmoistblfor', 'zoneBiomeOhe_tmpconiffor', 'zoneBiomeOhe_tempblmixdfor', 'zoneBiomeOhe_trsubtrconiffor', 'zoneBiomeOhe_mngr', 'zoneBiomeOhe_desxershrb', 'zoneBiomeOhe_trsubtrdryblfor', 'zoneBiomeOhe_trsubtrgrssvnshrb', 'zoneGeologicalAgeNum', 'zoneGeologicalAgeOhe_precambrian', 'zoneGeologicalAgeOhe_deccantraps', 'zoneGeologicalAgeOhe_quaternarysediments', 'zoneGeologicalAgeOhe_quaternarydunes', 'zoneGeologicalAgeOhe_others', 'longitude', 'latitude', 'aoiWithLabels']\n",
      "Features from asset rasters: ['phase', 'amplitude', 'offset', 'trend', 'phase_seg', 'amplitude_seg', 'd_brt', 'd_grn', 'd_wet', 'w_brt', 'w_grn', 'w_wet', 'tct_diff', 'd_brt_seg', 'd_grn_seg', 'd_wet_seg', 'w_brt_seg', 'w_grn_seg', 'w_wet_seg', 'tct_diff_seg', 'mn', 'md', 'mx', 'grng_ext', 'brng_ext', 'nd_grbr', 'md_seg', 'brng_ext_seg', 'grng_ext_seg', 'nd_grbr_seg', 'palsar', 'palsar_seg', 'palsar_scansar_median', 'palsar_scansar_median_seg', 'palsar_scansar_range', 'palsar_scansar_range_seg', 'et_veg', 'et_soil', 'et_soil_seg', 'et_veg_seg', 'elev_seg', 'annrf_seg', 'topo_seg', 'topo_hand_seg', 'ruggedness', 'ruggedness_seg', 'canopyHeight', 'canopyHeightStdDev', 'canopyHeight_seg', 'canopyHeightStdDev_seg', 'longitude', 'latitude', 'zoneStateNum', 'zoneStateOhe_pbbh', 'zoneStateOhe_rj', 'zoneStateOhe_gj', 'zoneStateOhe_mh', 'zoneStateOhe_mpod', 'zoneStateOhe_aptg', 'zoneStateOhe_tn', 'zoneStateOhe_ka', 'zoneBiomeNum', 'zoneBiomeOhe_na', 'zoneBiomeOhe_fldgrssvn', 'zoneBiomeOhe_mntgrsshrb', 'zoneBiomeOhe_trsubtrmoistblfor', 'zoneBiomeOhe_tmpconiffor', 'zoneBiomeOhe_tempblmixdfor', 'zoneBiomeOhe_trsubtrconiffor', 'zoneBiomeOhe_mngr', 'zoneBiomeOhe_desxershrb', 'zoneBiomeOhe_trsubtrdryblfor', 'zoneBiomeOhe_trsubtrgrssvnshrb', 'zoneGeologicalAgeNum', 'zoneGeologicalAgeOhe_precambrian', 'zoneGeologicalAgeOhe_deccantraps', 'zoneGeologicalAgeOhe_quaternarysediments', 'zoneGeologicalAgeOhe_quaternarydunes', 'zoneGeologicalAgeOhe_others', 'aoiWithLabels']\n",
      "Asset folder for rasters: projects/ee-open-natural-ecosystems/assets/homeStretch2023/\n",
      "Full match between the two (True/False): True\n"
     ]
    }
   ],
   "source": [
    "print(\"Features from config file:\", fromConfigFlattened)\n",
    "print(\"Features from asset rasters:\", fromFeatureFolder.getInfo())\n",
    "print(\"Asset folder for rasters:\", config.get('CORE', 'assetFolderWithFeatures'))\n",
    "\n",
    "print(\"Full match between the two (True/False):\", ee.List(fromConfigFlattened).containsAll(fromFeatureFolder).getInfo())"
   ]
  },
  {
   "cell_type": "markdown",
   "id": "db778139-1661-4c92-966b-f9dc429cf9d2",
   "metadata": {
    "tags": []
   },
   "source": [
    "## In case check fails...\n",
    "\n",
    "... it means that updates to either the config file or raster set handled by `assembleAllExistingFeatureRasters()` has not been made to reflect in the other. \n",
    "\n",
    "Check for minor mistakes in either one or both of them.\n",
    "\n",
    "OR\n",
    "\n",
    "Check whether a new feature was recently added to the module and if it was done thoroughly:\n",
    "* A separate section for it added in the `config.ini`, where its feature names are set\n",
    "  * And it added to the [appropriate section here at the top here](#Feature-names-from-config-file)\n",
    "* A separate function for it added in the `generateFeatures` module, that follows the standard structure as others with `returnExisting` and `startFreshExport` handling\n",
    "  * Followed by its at least one successful execution with `startFreshExport = True`\n",
    "* It getting added to the `assembleAllExistingFeatureRasters()`, with `returnExisting = True`"
   ]
  },
  {
   "cell_type": "markdown",
   "id": "5af7971d-f5fe-488d-b93b-65d77dad8452",
   "metadata": {},
   "source": [
    "## [ **CLASSIFY CASE** ] GBT classifier, \"global\" model, containing all the good features we have"
   ]
  },
  {
   "cell_type": "markdown",
   "id": "998e8545-1cb7-4039-bcf6-748d30a0e231",
   "metadata": {
    "tags": []
   },
   "source": [
    "### Biomes zones OHE"
   ]
  },
  {
   "cell_type": "markdown",
   "id": "23ca2282-36b3-408d-8727-64c41786c697",
   "metadata": {},
   "source": [
    "#### Non-hierarchical"
   ]
  },
  {
   "cell_type": "markdown",
   "id": "0f8180d4",
   "metadata": {},
   "source": [
    "Set up the classifier and the predictor variables to use. Specify and create a folder for results, if it doesn't already exist. "
   ]
  },
  {
   "cell_type": "code",
   "execution_count": 6,
   "id": "24a117f6-e917-4d99-a17a-4f0b974e48c9",
   "metadata": {
    "tags": []
   },
   "outputs": [
    {
     "data": {
      "text/html": [
       "\n",
       "            <style>\n",
       "                .geemap-dark {\n",
       "                    --jp-widgets-color: white;\n",
       "                    --jp-widgets-label-color: white;\n",
       "                    --jp-ui-font-color1: white;\n",
       "                    --jp-layout-color2: #454545;\n",
       "                    background-color: #383838;\n",
       "                }\n",
       "                    \n",
       "                .geemap-dark .jupyter-button {\n",
       "                    --jp-layout-color3: #383838;\n",
       "                }\n",
       "                \n",
       "                .geemap-colab {\n",
       "                    background-color: var(--colab-primary-surface-color, white);\n",
       "                }\n",
       "                    \n",
       "                .geemap-colab .jupyter-button {\n",
       "                    --jp-layout-color3: var(--colab-primary-surface-color, white);\n",
       "                }\n",
       "            </style>\n",
       "            "
      ],
      "text/plain": [
       "<IPython.core.display.HTML object>"
      ]
     },
     "metadata": {},
     "output_type": "display_data"
    },
    {
     "name": "stdout",
     "output_type": "stream",
     "text": [
      "Result folder creation error (if any): b'Asset projects/ee-open-natural-ecosystems/assets/homeStretch2023/globalModelGbt_BiomeZonesOhe_hier already exists.\\n' None\n"
     ]
    }
   ],
   "source": [
    "cOpts_gbt200 = dict(classifier = \"GradientBoostedTrees\", numTrees = 200, trainFraction = 0.7)\n",
    "globalModelGbtBiomesZonesOhe = [ \\\n",
    "                 [phase_seg, ampl_seg], \\\n",
    "                 [palsarScansar_seg, palsarScansarRange_seg], \\\n",
    "                 [ndviMed_seg, grnExt_seg, brnExt_seg, grnbrnNd_seg], \\\n",
    "                 [topoHand_seg], \\\n",
    "                 [topoMtpi_seg], \\\n",
    "                 [dBrt_seg, dGrn_seg, dWet_seg, wBrt_seg, wGrn_seg, wWet_seg, tctdiff_seg], \\\n",
    "                 [ppt_seg], \\\n",
    "                 [elev_seg], \\\n",
    "                 [geomorphRugged_seg], \\\n",
    "                 [cnpyheight_seg, cnpyheightStdDev_seg], \\\n",
    "                 zoneBiomeOhe]\n",
    "globalModelGbtBiomesZonesOheFlattened = flattenList(globalModelGbtBiomesZonesOhe)\n",
    "fOpts_globalModelGbt_biomeZonesOhe = dict(names = globalModelGbtBiomesZonesOheFlattened, zonationBasis = \"biomes\", zoneEncodingMode = \"oneHot\")\n",
    "\n",
    "# kaBoundBox = ee.Feature(ee.Geometry.Polygon(\n",
    "#         [[[72.74853170247881, 18.65873128670056],\n",
    "#           [72.74853170247881, 11.342174273000648],\n",
    "#           [78.90087545247881, 11.342174273000648],\n",
    "#           [78.90087545247881, 18.65873128670056]]]), \\\n",
    "#         {\"system:index\": \"0\"});\n",
    "\n",
    "resFolderGlobalModelGbtBiomeZonesOhe = \"globalModelGbt_BiomeZonesOhe_hier\"\n",
    "createResFolderCmd = f\"earthengine create folder {homeFolder}{resFolderGlobalModelGbtBiomeZonesOhe}\"\n",
    "process = subprocess.Popen(createResFolderCmd.split(), stdout=subprocess.PIPE)\n",
    "folderCreated, error = process.communicate()\n",
    "print(\"Result folder creation error (if any):\", folderCreated, error)"
   ]
  },
  {
   "cell_type": "markdown",
   "id": "4bd109f3",
   "metadata": {},
   "source": [
    "Run the non-hierarchical classification. Here, all 12 labels of interest are taken together and classification is done in a \"flat\" (non-hierarchical) manner.\n",
    "\n",
    "Labels at a coarser-level can be taken to be implicitly evident from this 12-class map, and can be computed by aggregating subsets of the 12 classes appropriately according to a rule of hierarchy. We call this way of arriving at a hierarchical map as ***Implicit Hierarchy***."
   ]
  },
  {
   "cell_type": "code",
   "execution_count": 8,
   "id": "6e2f39b6-7a12-4852-9928-2c8691a40209",
   "metadata": {},
   "outputs": [
    {
     "data": {
      "text/html": [
       "\n",
       "            <style>\n",
       "                .geemap-dark {\n",
       "                    --jp-widgets-color: white;\n",
       "                    --jp-widgets-label-color: white;\n",
       "                    --jp-ui-font-color1: white;\n",
       "                    --jp-layout-color2: #454545;\n",
       "                    background-color: #383838;\n",
       "                }\n",
       "                    \n",
       "                .geemap-dark .jupyter-button {\n",
       "                    --jp-layout-color3: #383838;\n",
       "                }\n",
       "                \n",
       "                .geemap-colab {\n",
       "                    background-color: var(--colab-primary-surface-color, white);\n",
       "                }\n",
       "                    \n",
       "                .geemap-colab .jupyter-button {\n",
       "                    --jp-layout-color3: var(--colab-primary-surface-color, white);\n",
       "                }\n",
       "            </style>\n",
       "            "
      ],
      "text/plain": [
       "<IPython.core.display.HTML object>"
      ]
     },
     "metadata": {},
     "output_type": "display_data"
    }
   ],
   "source": [
    "globalModelGbtBiomesZonesOheRes = classifyAndAssess.trainAndPredict(fOpts_globalModelGbt_biomeZonesOhe, cOpts_gbt200, resultNewFolderName = resFolderGlobalModelGbtBiomeZonesOhe, startFreshExport = True)\n",
    "# globalModelGbtBiomesZonesOheRes = classifyAndAssess.trainAndPredict(fOpts_globalModelGbt_biomeZonesOhe, cOpts_gbt200, roiForClassification = kaBoundBox, resultNewFolderName = resFolderGlobalModelGbtBiomeZonesOhe, startFreshExport = True)\n",
    "# print(globalModelGbtBiomesZonesOheRes.getInfo())"
   ]
  },
  {
   "cell_type": "markdown",
   "id": "a7987564-569a-4448-88aa-229c73dfac2b",
   "metadata": {
    "tags": []
   },
   "source": [
    "#### Hierarchical\n",
    "\n",
    "We experimented with multiple ways of creating hierarchical maps:\n",
    "* ***Implicit Hierarchy***: First create a 12-class level-2 flat (i.e., non-hierarchical) map and then compute its corresponding level-1 labels by aggregating appropriate subsets according to the rule of hierarchy. Classification is performed non-hierarchically at level-2, and level-1 labels are *implicitly* derived from them.\n",
    "* ***Dependent Hierarchy***: First create a 2-class level-1 label probabilities map. Then, append those probabilities to the features composite/vectors and run a classifier to create a 12-class map at level-2. Classification at level-2 is *dependent* on the classification outcome at level-1.\n",
    "* ***Explicit Hierarchy***: This approach is based on work described in [*Gavish et al. (2018)*](https://doi.org/10.1016/j.isprsjprs.2017.12.002) Represent the label hierarchy as a tree. Run a classifier at each node of the tree using only its child labels (along with a correction to account for rest of the labels). The probabilistic outputs of all these classifiers are combined in the following two ways to arrive at labels and probabilities for level-2. The corresponding level-1 labels and probabilities are then computed by aggregating appropriate labels according to the label hierarchy.\n",
    "  * Multiplicative\n",
    "  * Stepwise\n",
    "\n",
    "The code below produces dependent and explicit hierarchical maps (implicit hierarchy is the same as in the previous cell). After careful evaluation of these, we chose Explicit-Multiplicative, as our final map result. "
   ]
  },
  {
   "cell_type": "markdown",
   "id": "b878ab06",
   "metadata": {},
   "source": [
    "##### Explicit hierarchy\n",
    "\n",
    "This is adapted from the methods described in [*Gavish et al.*](https://doi.org/10.1016/j.isprsjprs.2017.12.002). It runs a classifier and computes outputs at each of the label hierarchy tree nodes."
   ]
  },
  {
   "cell_type": "code",
   "execution_count": 7,
   "id": "69ae0b80",
   "metadata": {},
   "outputs": [
    {
     "data": {
      "text/html": [
       "\n",
       "            <style>\n",
       "                .geemap-dark {\n",
       "                    --jp-widgets-color: white;\n",
       "                    --jp-widgets-label-color: white;\n",
       "                    --jp-ui-font-color1: white;\n",
       "                    --jp-layout-color2: #454545;\n",
       "                    background-color: #383838;\n",
       "                }\n",
       "                    \n",
       "                .geemap-dark .jupyter-button {\n",
       "                    --jp-layout-color3: #383838;\n",
       "                }\n",
       "                \n",
       "                .geemap-colab {\n",
       "                    background-color: var(--colab-primary-surface-color, white);\n",
       "                }\n",
       "                    \n",
       "                .geemap-colab .jupyter-button {\n",
       "                    --jp-layout-color3: var(--colab-primary-surface-color, white);\n",
       "                }\n",
       "            </style>\n",
       "            "
      ],
      "text/plain": [
       "<IPython.core.display.HTML object>"
      ]
     },
     "metadata": {},
     "output_type": "display_data"
    },
    {
     "name": "stdout",
     "output_type": "stream",
     "text": [
      "['phase_seg', 'amplitude_seg', 'palsar_scansar_median_seg', 'palsar_scansar_range_seg', 'md_seg', 'grng_ext_seg', 'brng_ext_seg', 'nd_grbr_seg', 'topo_hand_seg', 'topo_seg', 'd_brt_seg', 'd_grn_seg', 'd_wet_seg', 'w_brt_seg', 'w_grn_seg', 'w_wet_seg', 'tct_diff_seg', 'annrf_seg', 'elev_seg', 'ruggedness_seg', 'canopyHeight_seg', 'canopyHeightStdDev_seg', 'zoneBiomeOhe_na', 'zoneBiomeOhe_fldgrssvn', 'zoneBiomeOhe_mntgrsshrb', 'zoneBiomeOhe_trsubtrmoistblfor', 'zoneBiomeOhe_tmpconiffor', 'zoneBiomeOhe_tempblmixdfor', 'zoneBiomeOhe_trsubtrconiffor', 'zoneBiomeOhe_mngr', 'zoneBiomeOhe_desxershrb', 'zoneBiomeOhe_trsubtrdryblfor', 'zoneBiomeOhe_trsubtrgrssvnshrb']\n",
      "l0 names & codes: {'nonone': 100, 'one': 200}\n",
      "l0 hist: {'100': 236950, '200': 146900}\n",
      "l1 names & codes: {'agri_hiBiomass': 1, 'agri_loBiomass': 2, 'built': 4, 'forest': 6, 'other': 9999, 'water_wetland': 12}\n",
      "l1 hist: {'1': 15212, '12': 17276, '2': 156658, '4': 15140, '6': 32664, '9999': 146900}\n",
      "l1 names & codes: {'bare': 3, 'dune': 5, 'other': 9999, 'ravine': 7, 'saline': 8, 'savanna_open': 9, 'savanna_shrub': 10, 'savanna_woodland': 11}\n",
      "l1 hist: {'10': 38943, '11': 40036, '3': 6125, '5': 4500, '7': 3135, '8': 1064, '9': 53097, '9999': 236950}\n",
      "hierarchy mode explicit\n"
     ]
    }
   ],
   "source": [
    "hierarchOpts_exp = dict(hierarchyMode = \"explicit\", coarserLevelLabelColumn = \"labelL1\", finerLevelLabelColumn = \"label_2024\") #  label_palsarHarmonised\n",
    "globalModelGbtBiomesZonesOheRes_heir_master_explicit = classifyAndAssess.trainAndPredictHierarchical_master( \\\n",
    "    hierarchOpts_exp, \\\n",
    "    fOpts_globalModelGbt_biomeZonesOhe, \\\n",
    "    cOpts_gbt200, \\\n",
    "    resultNewFolderName = resFolderGlobalModelGbtBiomeZonesOhe, \\\n",
    "    startFreshExport = True)\n"
   ]
  },
  {
   "cell_type": "markdown",
   "id": "5b7a0a88",
   "metadata": {},
   "source": [
    "##### Dependent hierarchy\n",
    "\n",
    "The 2-class classification output of level-1 labels get appended to features composite, and level-2 classes are classified."
   ]
  },
  {
   "cell_type": "code",
   "execution_count": 7,
   "id": "7749d11a",
   "metadata": {},
   "outputs": [
    {
     "data": {
      "text/html": [
       "\n",
       "            <style>\n",
       "                .geemap-dark {\n",
       "                    --jp-widgets-color: white;\n",
       "                    --jp-widgets-label-color: white;\n",
       "                    --jp-ui-font-color1: white;\n",
       "                    --jp-layout-color2: #454545;\n",
       "                    background-color: #383838;\n",
       "                }\n",
       "                    \n",
       "                .geemap-dark .jupyter-button {\n",
       "                    --jp-layout-color3: #383838;\n",
       "                }\n",
       "                \n",
       "                .geemap-colab {\n",
       "                    background-color: var(--colab-primary-surface-color, white);\n",
       "                }\n",
       "                    \n",
       "                .geemap-colab .jupyter-button {\n",
       "                    --jp-layout-color3: var(--colab-primary-surface-color, white);\n",
       "                }\n",
       "            </style>\n",
       "            "
      ],
      "text/plain": [
       "<IPython.core.display.HTML object>"
      ]
     },
     "metadata": {},
     "output_type": "display_data"
    },
    {
     "name": "stdout",
     "output_type": "stream",
     "text": [
      "['phase_seg', 'amplitude_seg', 'palsar_scansar_median_seg', 'palsar_scansar_range_seg', 'md_seg', 'grng_ext_seg', 'brng_ext_seg', 'nd_grbr_seg', 'topo_hand_seg', 'topo_seg', 'd_brt_seg', 'd_grn_seg', 'd_wet_seg', 'w_brt_seg', 'w_grn_seg', 'w_wet_seg', 'tct_diff_seg', 'annrf_seg', 'elev_seg', 'ruggedness_seg', 'canopyHeight_seg', 'canopyHeightStdDev_seg', 'zoneBiomeOhe_na', 'zoneBiomeOhe_fldgrssvn', 'zoneBiomeOhe_mntgrsshrb', 'zoneBiomeOhe_trsubtrmoistblfor', 'zoneBiomeOhe_tmpconiffor', 'zoneBiomeOhe_tempblmixdfor', 'zoneBiomeOhe_trsubtrconiffor', 'zoneBiomeOhe_mngr', 'zoneBiomeOhe_desxershrb', 'zoneBiomeOhe_trsubtrdryblfor', 'zoneBiomeOhe_trsubtrgrssvnshrb']\n",
      "['prob_nonone', 'prob_one']\n",
      "hierarchy mode dependent\n"
     ]
    }
   ],
   "source": [
    "l1ProbsImage = ee.Image(\"projects/ee-open-natural-ecosystems/assets/homeStretch2023/globalModelGbt_BiomeZonesOhe_hier/prediction_l0\")\n",
    "hierarchOpts_dep = dict(hierarchyMode = \"dependent\", l1Probabilities = l1ProbsImage, coarserLevelLabelColumn = \"labelL1\", finerLevelLabelColumn = \"label_2024\")\n",
    "\n",
    "globalModelGbtBiomesZonesOheRes_heir_master_dependent = classifyAndAssess.trainAndPredictHierarchical_master( \\\n",
    "    hierarchOpts_dep, \\\n",
    "    fOpts_globalModelGbt_biomeZonesOhe, \\\n",
    "    cOpts_gbt200, \\\n",
    "    resultNewFolderName = resFolderGlobalModelGbtBiomeZonesOhe, \\\n",
    "    startFreshExport = True)\n"
   ]
  },
  {
   "cell_type": "markdown",
   "id": "6d27cab4",
   "metadata": {},
   "source": [
    "##### Map outputs and accuracies\n",
    "\n",
    "For all the approaches, this takes level-2 results and compute their corresponding level-1 results. It also computes accuracy metrics for each of these cases, to enable comparison among them."
   ]
  },
  {
   "cell_type": "code",
   "execution_count": 7,
   "id": "89914900",
   "metadata": {},
   "outputs": [
    {
     "data": {
      "text/html": [
       "\n",
       "            <style>\n",
       "                .geemap-dark {\n",
       "                    --jp-widgets-color: white;\n",
       "                    --jp-widgets-label-color: white;\n",
       "                    --jp-ui-font-color1: white;\n",
       "                    --jp-layout-color2: #454545;\n",
       "                    background-color: #383838;\n",
       "                }\n",
       "                    \n",
       "                .geemap-dark .jupyter-button {\n",
       "                    --jp-layout-color3: #383838;\n",
       "                }\n",
       "                \n",
       "                .geemap-colab {\n",
       "                    background-color: var(--colab-primary-surface-color, white);\n",
       "                }\n",
       "                    \n",
       "                .geemap-colab .jupyter-button {\n",
       "                    --jp-layout-color3: var(--colab-primary-surface-color, white);\n",
       "                }\n",
       "            </style>\n",
       "            "
      ],
      "text/plain": [
       "<IPython.core.display.HTML object>"
      ]
     },
     "metadata": {},
     "output_type": "display_data"
    }
   ],
   "source": [
    "explicitHierL1Probs = ee.Image(\"projects/ee-open-natural-ecosystems/assets/homeStretch2023/globalModelGbt_BiomeZonesOhe_hier/prediction_l0\")\n",
    "explicitHierL2NononeProbs = ee.Image(\"projects/ee-open-natural-ecosystems/assets/homeStretch2023/globalModelGbt_BiomeZonesOhe_hier/prediction_nonone\")\n",
    "explicitHierL2OneProbs = ee.Image(\"projects/ee-open-natural-ecosystems/assets/homeStretch2023/globalModelGbt_BiomeZonesOhe_hier/prediction_one\")\n",
    "dependentHierL2Result = ee.Image(\"projects/ee-open-natural-ecosystems/assets/homeStretch2023/globalModelGbt_BiomeZonesOhe_hier/prediction_l2Dep\")\n",
    "implicitHierL2Result = ee.Image(\"projects/ee-open-natural-ecosystems/assets/homeStretch2023/globalModelGbt_BiomeZonesOhe_hier/prediction_l2Flat\")\n",
    "\n",
    "combinedOutputs = classifyAndAssess.calcCoarserLevelLabelsAndAllAccuracies(explicitHierL1Probs, explicitHierL2NononeProbs, explicitHierL2OneProbs, dependentHierL2Result, implicitHierL2Result, resultNewFolderName = resFolderGlobalModelGbtBiomeZonesOhe)\n",
    "# print(combinedOutputs.first().getInfo())"
   ]
  }
 ],
 "metadata": {
  "kernelspec": {
   "display_name": "Python 3 (ipykernel)",
   "language": "python",
   "name": "python3"
  },
  "language_info": {
   "codemirror_mode": {
    "name": "ipython",
    "version": 3
   },
   "file_extension": ".py",
   "mimetype": "text/x-python",
   "name": "python",
   "nbconvert_exporter": "python",
   "pygments_lexer": "ipython3",
   "version": "3.11.6"
  }
 },
 "nbformat": 4,
 "nbformat_minor": 5
}
